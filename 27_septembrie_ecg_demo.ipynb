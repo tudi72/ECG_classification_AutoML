{
  "cells": [
    {
      "cell_type": "markdown",
      "metadata": {
        "id": "view-in-github",
        "colab_type": "text"
      },
      "source": [
        "<a href=\"https://colab.research.google.com/github/tudi72/ECG_classification_AutoML/blob/main/27_septembrie_ecg_demo.ipynb\" target=\"_parent\"><img src=\"https://colab.research.google.com/assets/colab-badge.svg\" alt=\"Open In Colab\"/></a>"
      ]
    },
    {
      "cell_type": "markdown",
      "metadata": {
        "id": "Yq2W1Ls0lOUG"
      },
      "source": [
        "# READING DATA"
      ]
    },
    {
      "cell_type": "code",
      "execution_count": 1,
      "metadata": {
        "id": "TPP41aM40cok"
      },
      "outputs": [],
      "source": [
        "# Code to read csv file into Colaboratory:\n",
        "!pip install -U -q PyDrive\n",
        "from pydrive.auth import GoogleAuth\n",
        "from pydrive.drive import GoogleDrive\n",
        "from google.colab import auth\n",
        "from oauth2client.client import GoogleCredentials\n",
        "# Authenticate and create the PyDrive client.\n",
        "auth.authenticate_user()\n",
        "gauth = GoogleAuth()\n",
        "gauth.credentials = GoogleCredentials.get_application_default()\n",
        "drive = GoogleDrive(gauth)"
      ]
    },
    {
      "cell_type": "code",
      "source": [
        "# !sudo apt-get install build-essential swig\n",
        "# !curl https://raw.githubusercontent.com/automl/auto-sklearn/master/requirements.txt | xargs -n 1 -L 1 pip install\n",
        "# !pip install auto-sklearn\n",
        "# !pip install mljar-supervised\n",
        "# for _ in range(3):\n",
        "#     try:\n",
        "#         import autosklearn.classification\n",
        "#         break\n",
        "#     except:\n",
        "#         pass\n",
        "# else:\n",
        "#     raise ImportError(\"failed to import from autosklearn\")"
      ],
      "metadata": {
        "colab": {
          "base_uri": "https://localhost:8080/"
        },
        "id": "KEv1_qLaPrRG",
        "outputId": "faf20159-5939-49a1-a85f-26fdecb6d51f"
      },
      "execution_count": null,
      "outputs": [
        {
          "output_type": "execute_result",
          "data": {
            "text/plain": [
              "()"
            ]
          },
          "metadata": {},
          "execution_count": 2
        }
      ]
    },
    {
      "cell_type": "code",
      "source": [
        "!pip install percentile\n",
        "!pip install mljar-supervised\n",
        "!pip install auto-sklearn"
      ],
      "metadata": {
        "id": "OcKbnGLHSEQj",
        "colab": {
          "base_uri": "https://localhost:8080/"
        },
        "outputId": "9b81aea4-7ee9-4223-f176-d4a4f1f49737"
      },
      "execution_count": 2,
      "outputs": [
        {
          "output_type": "stream",
          "name": "stdout",
          "text": [
            "Looking in indexes: https://pypi.org/simple, https://us-python.pkg.dev/colab-wheels/public/simple/\n",
            "Collecting percentile\n",
            "  Downloading percentile-1.0.3-py3-none-any.whl (5.0 kB)\n",
            "Installing collected packages: percentile\n",
            "Successfully installed percentile-1.0.3\n",
            "Looking in indexes: https://pypi.org/simple, https://us-python.pkg.dev/colab-wheels/public/simple/\n",
            "Collecting mljar-supervised\n",
            "  Downloading mljar-supervised-0.11.3.tar.gz (112 kB)\n",
            "\u001b[K     |████████████████████████████████| 112 kB 4.3 MB/s \n",
            "\u001b[?25hRequirement already satisfied: numpy>=1.19.5 in /usr/local/lib/python3.7/dist-packages (from mljar-supervised) (1.21.6)\n",
            "Requirement already satisfied: pandas>=1.2.0 in /usr/local/lib/python3.7/dist-packages (from mljar-supervised) (1.3.5)\n",
            "Requirement already satisfied: scipy>=1.6.1 in /usr/local/lib/python3.7/dist-packages (from mljar-supervised) (1.7.3)\n",
            "Requirement already satisfied: scikit-learn>=1.0 in /usr/local/lib/python3.7/dist-packages (from mljar-supervised) (1.0.2)\n",
            "Collecting xgboost>=1.3.3\n",
            "  Downloading xgboost-1.6.2-py3-none-manylinux2014_x86_64.whl (255.9 MB)\n",
            "\u001b[K     |████████████████████████████████| 255.9 MB 48 kB/s \n",
            "\u001b[?25hCollecting lightgbm>=3.0.0\n",
            "  Downloading lightgbm-3.3.3-py3-none-manylinux1_x86_64.whl (2.0 MB)\n",
            "\u001b[K     |████████████████████████████████| 2.0 MB 42.0 MB/s \n",
            "\u001b[?25hCollecting catboost>=0.24.4\n",
            "  Downloading catboost-1.1-cp37-none-manylinux1_x86_64.whl (76.8 MB)\n",
            "\u001b[K     |████████████████████████████████| 76.8 MB 1.2 MB/s \n",
            "\u001b[?25hRequirement already satisfied: joblib>=1.0.1 in /usr/local/lib/python3.7/dist-packages (from mljar-supervised) (1.2.0)\n",
            "Requirement already satisfied: tabulate>=0.8.7 in /usr/local/lib/python3.7/dist-packages (from mljar-supervised) (0.8.10)\n",
            "Requirement already satisfied: matplotlib>=3.2.2 in /usr/local/lib/python3.7/dist-packages (from mljar-supervised) (3.2.2)\n",
            "Collecting dtreeviz>=1.3.3\n",
            "  Downloading dtreeviz-1.3.7.tar.gz (62 kB)\n",
            "\u001b[K     |████████████████████████████████| 62 kB 1.2 MB/s \n",
            "\u001b[?25hCollecting shap>=0.36.0\n",
            "  Downloading shap-0.41.0-cp37-cp37m-manylinux_2_12_x86_64.manylinux2010_x86_64.whl (569 kB)\n",
            "\u001b[K     |████████████████████████████████| 569 kB 50.3 MB/s \n",
            "\u001b[?25hRequirement already satisfied: seaborn>=0.11.1 in /usr/local/lib/python3.7/dist-packages (from mljar-supervised) (0.11.2)\n",
            "Requirement already satisfied: wordcloud>=1.8.1 in /usr/local/lib/python3.7/dist-packages (from mljar-supervised) (1.8.2.2)\n",
            "Collecting category_encoders>=2.2.2\n",
            "  Downloading category_encoders-2.5.1.post0-py2.py3-none-any.whl (72 kB)\n",
            "\u001b[K     |████████████████████████████████| 72 kB 823 kB/s \n",
            "\u001b[?25hCollecting optuna>=2.7.0\n",
            "  Downloading optuna-3.0.3-py3-none-any.whl (348 kB)\n",
            "\u001b[K     |████████████████████████████████| 348 kB 60.1 MB/s \n",
            "\u001b[?25hCollecting scikit-plot==0.3.7\n",
            "  Downloading scikit_plot-0.3.7-py3-none-any.whl (33 kB)\n",
            "Requirement already satisfied: markdown in /usr/local/lib/python3.7/dist-packages (from mljar-supervised) (3.4.1)\n",
            "Requirement already satisfied: typing-extensions in /usr/local/lib/python3.7/dist-packages (from mljar-supervised) (4.1.1)\n",
            "Requirement already satisfied: graphviz in /usr/local/lib/python3.7/dist-packages (from catboost>=0.24.4->mljar-supervised) (0.10.1)\n",
            "Requirement already satisfied: six in /usr/local/lib/python3.7/dist-packages (from catboost>=0.24.4->mljar-supervised) (1.15.0)\n",
            "Requirement already satisfied: plotly in /usr/local/lib/python3.7/dist-packages (from catboost>=0.24.4->mljar-supervised) (5.5.0)\n",
            "Requirement already satisfied: statsmodels>=0.9.0 in /usr/local/lib/python3.7/dist-packages (from category_encoders>=2.2.2->mljar-supervised) (0.12.2)\n",
            "Requirement already satisfied: patsy>=0.5.1 in /usr/local/lib/python3.7/dist-packages (from category_encoders>=2.2.2->mljar-supervised) (0.5.3)\n",
            "Collecting colour\n",
            "  Downloading colour-0.1.5-py2.py3-none-any.whl (23 kB)\n",
            "Requirement already satisfied: pytest in /usr/local/lib/python3.7/dist-packages (from dtreeviz>=1.3.3->mljar-supervised) (3.6.4)\n",
            "Requirement already satisfied: wheel in /usr/local/lib/python3.7/dist-packages (from lightgbm>=3.0.0->mljar-supervised) (0.37.1)\n",
            "Requirement already satisfied: kiwisolver>=1.0.1 in /usr/local/lib/python3.7/dist-packages (from matplotlib>=3.2.2->mljar-supervised) (1.4.4)\n",
            "Requirement already satisfied: pyparsing!=2.0.4,!=2.1.2,!=2.1.6,>=2.0.1 in /usr/local/lib/python3.7/dist-packages (from matplotlib>=3.2.2->mljar-supervised) (3.0.9)\n",
            "Requirement already satisfied: cycler>=0.10 in /usr/local/lib/python3.7/dist-packages (from matplotlib>=3.2.2->mljar-supervised) (0.11.0)\n",
            "Requirement already satisfied: python-dateutil>=2.1 in /usr/local/lib/python3.7/dist-packages (from matplotlib>=3.2.2->mljar-supervised) (2.8.2)\n",
            "Requirement already satisfied: tqdm in /usr/local/lib/python3.7/dist-packages (from optuna>=2.7.0->mljar-supervised) (4.64.1)\n",
            "Collecting colorlog\n",
            "  Downloading colorlog-6.7.0-py2.py3-none-any.whl (11 kB)\n",
            "Collecting cliff\n",
            "  Downloading cliff-3.10.1-py3-none-any.whl (81 kB)\n",
            "\u001b[K     |████████████████████████████████| 81 kB 8.6 MB/s \n",
            "\u001b[?25hRequirement already satisfied: PyYAML in /usr/local/lib/python3.7/dist-packages (from optuna>=2.7.0->mljar-supervised) (6.0)\n",
            "Collecting cmaes>=0.8.2\n",
            "  Downloading cmaes-0.8.2-py3-none-any.whl (15 kB)\n",
            "Collecting alembic>=1.5.0\n",
            "  Downloading alembic-1.8.1-py3-none-any.whl (209 kB)\n",
            "\u001b[K     |████████████████████████████████| 209 kB 56.3 MB/s \n",
            "\u001b[?25hRequirement already satisfied: sqlalchemy>=1.3.0 in /usr/local/lib/python3.7/dist-packages (from optuna>=2.7.0->mljar-supervised) (1.4.41)\n",
            "Collecting importlib-metadata<5.0.0\n",
            "  Downloading importlib_metadata-4.13.0-py3-none-any.whl (23 kB)\n",
            "Requirement already satisfied: packaging>=20.0 in /usr/local/lib/python3.7/dist-packages (from optuna>=2.7.0->mljar-supervised) (21.3)\n",
            "Collecting Mako\n",
            "  Downloading Mako-1.2.3-py3-none-any.whl (78 kB)\n",
            "\u001b[K     |████████████████████████████████| 78 kB 4.8 MB/s \n",
            "\u001b[?25hRequirement already satisfied: importlib-resources in /usr/local/lib/python3.7/dist-packages (from alembic>=1.5.0->optuna>=2.7.0->mljar-supervised) (5.10.0)\n",
            "Requirement already satisfied: zipp>=0.5 in /usr/local/lib/python3.7/dist-packages (from importlib-metadata<5.0.0->optuna>=2.7.0->mljar-supervised) (3.9.0)\n",
            "Requirement already satisfied: pytz>=2017.3 in /usr/local/lib/python3.7/dist-packages (from pandas>=1.2.0->mljar-supervised) (2022.4)\n",
            "Requirement already satisfied: threadpoolctl>=2.0.0 in /usr/local/lib/python3.7/dist-packages (from scikit-learn>=1.0->mljar-supervised) (3.1.0)\n",
            "Collecting slicer==0.0.7\n",
            "  Downloading slicer-0.0.7-py3-none-any.whl (14 kB)\n",
            "Requirement already satisfied: cloudpickle in /usr/local/lib/python3.7/dist-packages (from shap>=0.36.0->mljar-supervised) (1.5.0)\n",
            "Requirement already satisfied: numba in /usr/local/lib/python3.7/dist-packages (from shap>=0.36.0->mljar-supervised) (0.56.2)\n",
            "Requirement already satisfied: greenlet!=0.4.17 in /usr/local/lib/python3.7/dist-packages (from sqlalchemy>=1.3.0->optuna>=2.7.0->mljar-supervised) (1.1.3.post0)\n",
            "Requirement already satisfied: pillow in /usr/local/lib/python3.7/dist-packages (from wordcloud>=1.8.1->mljar-supervised) (7.1.2)\n",
            "Collecting pbr!=2.1.0,>=2.0.0\n",
            "  Downloading pbr-5.10.0-py2.py3-none-any.whl (112 kB)\n",
            "\u001b[K     |████████████████████████████████| 112 kB 74.0 MB/s \n",
            "\u001b[?25hCollecting autopage>=0.4.0\n",
            "  Downloading autopage-0.5.1-py3-none-any.whl (29 kB)\n",
            "Collecting stevedore>=2.0.1\n",
            "  Downloading stevedore-3.5.1-py3-none-any.whl (50 kB)\n",
            "\u001b[K     |████████████████████████████████| 50 kB 7.4 MB/s \n",
            "\u001b[?25hRequirement already satisfied: PrettyTable>=0.7.2 in /usr/local/lib/python3.7/dist-packages (from cliff->optuna>=2.7.0->mljar-supervised) (3.4.1)\n",
            "Collecting cmd2>=1.0.0\n",
            "  Downloading cmd2-2.4.2-py3-none-any.whl (147 kB)\n",
            "\u001b[K     |████████████████████████████████| 147 kB 62.3 MB/s \n",
            "\u001b[?25hRequirement already satisfied: attrs>=16.3.0 in /usr/local/lib/python3.7/dist-packages (from cmd2>=1.0.0->cliff->optuna>=2.7.0->mljar-supervised) (22.1.0)\n",
            "Requirement already satisfied: wcwidth>=0.1.7 in /usr/local/lib/python3.7/dist-packages (from cmd2>=1.0.0->cliff->optuna>=2.7.0->mljar-supervised) (0.2.5)\n",
            "Collecting pyperclip>=1.6\n",
            "  Downloading pyperclip-1.8.2.tar.gz (20 kB)\n",
            "Requirement already satisfied: MarkupSafe>=0.9.2 in /usr/local/lib/python3.7/dist-packages (from Mako->alembic>=1.5.0->optuna>=2.7.0->mljar-supervised) (2.0.1)\n",
            "Requirement already satisfied: setuptools<60 in /usr/local/lib/python3.7/dist-packages (from numba->shap>=0.36.0->mljar-supervised) (57.4.0)\n",
            "Requirement already satisfied: llvmlite<0.40,>=0.39.0dev0 in /usr/local/lib/python3.7/dist-packages (from numba->shap>=0.36.0->mljar-supervised) (0.39.1)\n",
            "Requirement already satisfied: tenacity>=6.2.0 in /usr/local/lib/python3.7/dist-packages (from plotly->catboost>=0.24.4->mljar-supervised) (8.1.0)\n",
            "Requirement already satisfied: atomicwrites>=1.0 in /usr/local/lib/python3.7/dist-packages (from pytest->dtreeviz>=1.3.3->mljar-supervised) (1.4.1)\n",
            "Requirement already satisfied: pluggy<0.8,>=0.5 in /usr/local/lib/python3.7/dist-packages (from pytest->dtreeviz>=1.3.3->mljar-supervised) (0.7.1)\n",
            "Requirement already satisfied: py>=1.5.0 in /usr/local/lib/python3.7/dist-packages (from pytest->dtreeviz>=1.3.3->mljar-supervised) (1.11.0)\n",
            "Requirement already satisfied: more-itertools>=4.0.0 in /usr/local/lib/python3.7/dist-packages (from pytest->dtreeviz>=1.3.3->mljar-supervised) (8.14.0)\n",
            "Building wheels for collected packages: mljar-supervised, dtreeviz, pyperclip\n",
            "  Building wheel for mljar-supervised (setup.py) ... \u001b[?25l\u001b[?25hdone\n",
            "  Created wheel for mljar-supervised: filename=mljar_supervised-0.11.3-py3-none-any.whl size=146654 sha256=fb77678df9f88d2a94403d1a0f9f1f7dae36158a7d68b9752a31a64d232db7dd\n",
            "  Stored in directory: /root/.cache/pip/wheels/d0/d4/2a/d68abf3e680da91bf037f521faa319a58b711a22a334c62bfd\n",
            "  Building wheel for dtreeviz (setup.py) ... \u001b[?25l\u001b[?25hdone\n",
            "  Created wheel for dtreeviz: filename=dtreeviz-1.3.7-py3-none-any.whl size=68151 sha256=3f76efa852eecb4f3beb010cd355e642d9d27ce51b9bdc671a0337952959c0de\n",
            "  Stored in directory: /root/.cache/pip/wheels/bf/ba/9f/87c689d8d3c2916793f2dccc57d3dc3b283e0ccf8cb4ca4cad\n",
            "  Building wheel for pyperclip (setup.py) ... \u001b[?25l\u001b[?25hdone\n",
            "  Created wheel for pyperclip: filename=pyperclip-1.8.2-py3-none-any.whl size=11137 sha256=e000d04ab41aefa8c179c3309f2b8f48a7a49887f2be10beab2ea7271bfaa95c\n",
            "  Stored in directory: /root/.cache/pip/wheels/9f/18/84/8f69f8b08169c7bae2dde6bd7daf0c19fca8c8e500ee620a28\n",
            "Successfully built mljar-supervised dtreeviz pyperclip\n",
            "Installing collected packages: pyperclip, pbr, importlib-metadata, stevedore, Mako, cmd2, autopage, slicer, colour, colorlog, cmaes, cliff, alembic, xgboost, shap, scikit-plot, optuna, lightgbm, dtreeviz, category-encoders, catboost, mljar-supervised\n",
            "  Attempting uninstall: importlib-metadata\n",
            "    Found existing installation: importlib-metadata 5.0.0\n",
            "    Uninstalling importlib-metadata-5.0.0:\n",
            "      Successfully uninstalled importlib-metadata-5.0.0\n",
            "  Attempting uninstall: xgboost\n",
            "    Found existing installation: xgboost 0.90\n",
            "    Uninstalling xgboost-0.90:\n",
            "      Successfully uninstalled xgboost-0.90\n",
            "  Attempting uninstall: lightgbm\n",
            "    Found existing installation: lightgbm 2.2.3\n",
            "    Uninstalling lightgbm-2.2.3:\n",
            "      Successfully uninstalled lightgbm-2.2.3\n",
            "Successfully installed Mako-1.2.3 alembic-1.8.1 autopage-0.5.1 catboost-1.1 category-encoders-2.5.1.post0 cliff-3.10.1 cmaes-0.8.2 cmd2-2.4.2 colorlog-6.7.0 colour-0.1.5 dtreeviz-1.3.7 importlib-metadata-4.13.0 lightgbm-3.3.3 mljar-supervised-0.11.3 optuna-3.0.3 pbr-5.10.0 pyperclip-1.8.2 scikit-plot-0.3.7 shap-0.41.0 slicer-0.0.7 stevedore-3.5.1 xgboost-1.6.2\n",
            "Looking in indexes: https://pypi.org/simple, https://us-python.pkg.dev/colab-wheels/public/simple/\n",
            "Collecting auto-sklearn\n",
            "  Downloading auto-sklearn-0.15.0.tar.gz (6.5 MB)\n",
            "\u001b[K     |████████████████████████████████| 6.5 MB 4.2 MB/s \n",
            "\u001b[?25h  Installing build dependencies ... \u001b[?25l\u001b[?25hdone\n",
            "  Getting requirements to build wheel ... \u001b[?25l\u001b[?25hdone\n",
            "    Preparing wheel metadata ... \u001b[?25l\u001b[?25hdone\n",
            "Collecting ConfigSpace<0.5,>=0.4.21\n",
            "  Downloading ConfigSpace-0.4.21-cp37-cp37m-manylinux_2_17_x86_64.manylinux2014_x86_64.whl (4.3 MB)\n",
            "\u001b[K     |████████████████████████████████| 4.3 MB 41.6 MB/s \n",
            "\u001b[?25hRequirement already satisfied: distributed>=2012.12 in /usr/local/lib/python3.7/dist-packages (from auto-sklearn) (2022.2.0)\n",
            "Collecting smac<1.3,>=1.2\n",
            "  Downloading smac-1.2.tar.gz (260 kB)\n",
            "\u001b[K     |████████████████████████████████| 260 kB 56.5 MB/s \n",
            "\u001b[?25hRequirement already satisfied: pandas>=1.0 in /usr/local/lib/python3.7/dist-packages (from auto-sklearn) (1.3.5)\n",
            "Requirement already satisfied: scipy>=1.7.0 in /usr/local/lib/python3.7/dist-packages (from auto-sklearn) (1.7.3)\n",
            "Collecting liac-arff\n",
            "  Downloading liac-arff-2.5.0.tar.gz (13 kB)\n",
            "Collecting distro\n",
            "  Downloading distro-1.8.0-py3-none-any.whl (20 kB)\n",
            "Requirement already satisfied: threadpoolctl in /usr/local/lib/python3.7/dist-packages (from auto-sklearn) (3.1.0)\n",
            "Requirement already satisfied: typing-extensions in /usr/local/lib/python3.7/dist-packages (from auto-sklearn) (4.1.1)\n",
            "Collecting pynisher<0.7,>=0.6.3\n",
            "  Downloading pynisher-0.6.4.tar.gz (11 kB)\n",
            "Collecting pyrfr<0.9,>=0.8.1\n",
            "  Downloading pyrfr-0.8.3-cp37-cp37m-manylinux_2_17_x86_64.manylinux2014_x86_64.whl (4.4 MB)\n",
            "\u001b[K     |████████████████████████████████| 4.4 MB 35.9 MB/s \n",
            "\u001b[?25hRequirement already satisfied: joblib in /usr/local/lib/python3.7/dist-packages (from auto-sklearn) (1.2.0)\n",
            "Requirement already satisfied: setuptools in /usr/local/lib/python3.7/dist-packages (from auto-sklearn) (57.4.0)\n",
            "Requirement already satisfied: pyyaml in /usr/local/lib/python3.7/dist-packages (from auto-sklearn) (6.0)\n",
            "Collecting scikit-learn<0.25.0,>=0.24.0\n",
            "  Downloading scikit_learn-0.24.2-cp37-cp37m-manylinux2010_x86_64.whl (22.3 MB)\n",
            "\u001b[K     |████████████████████████████████| 22.3 MB 1.2 MB/s \n",
            "\u001b[?25hRequirement already satisfied: dask>=2021.12 in /usr/local/lib/python3.7/dist-packages (from auto-sklearn) (2022.2.0)\n",
            "Requirement already satisfied: numpy>=1.9.0 in /usr/local/lib/python3.7/dist-packages (from auto-sklearn) (1.21.6)\n",
            "Requirement already satisfied: pyparsing in /usr/local/lib/python3.7/dist-packages (from ConfigSpace<0.5,>=0.4.21->auto-sklearn) (3.0.9)\n",
            "Requirement already satisfied: cython in /usr/local/lib/python3.7/dist-packages (from ConfigSpace<0.5,>=0.4.21->auto-sklearn) (0.29.32)\n",
            "Requirement already satisfied: partd>=0.3.10 in /usr/local/lib/python3.7/dist-packages (from dask>=2021.12->auto-sklearn) (1.3.0)\n",
            "Requirement already satisfied: toolz>=0.8.2 in /usr/local/lib/python3.7/dist-packages (from dask>=2021.12->auto-sklearn) (0.12.0)\n",
            "Requirement already satisfied: fsspec>=0.6.0 in /usr/local/lib/python3.7/dist-packages (from dask>=2021.12->auto-sklearn) (2022.8.2)\n",
            "Requirement already satisfied: cloudpickle>=1.1.1 in /usr/local/lib/python3.7/dist-packages (from dask>=2021.12->auto-sklearn) (1.5.0)\n",
            "Requirement already satisfied: packaging>=20.0 in /usr/local/lib/python3.7/dist-packages (from dask>=2021.12->auto-sklearn) (21.3)\n",
            "Requirement already satisfied: click>=6.6 in /usr/local/lib/python3.7/dist-packages (from distributed>=2012.12->auto-sklearn) (7.1.2)\n",
            "Requirement already satisfied: sortedcontainers!=2.0.0,!=2.0.1 in /usr/local/lib/python3.7/dist-packages (from distributed>=2012.12->auto-sklearn) (2.4.0)\n",
            "Requirement already satisfied: zict>=0.1.3 in /usr/local/lib/python3.7/dist-packages (from distributed>=2012.12->auto-sklearn) (2.2.0)\n",
            "Requirement already satisfied: psutil>=5.0 in /usr/local/lib/python3.7/dist-packages (from distributed>=2012.12->auto-sklearn) (5.4.8)\n",
            "Requirement already satisfied: jinja2 in /usr/local/lib/python3.7/dist-packages (from distributed>=2012.12->auto-sklearn) (2.11.3)\n",
            "Requirement already satisfied: tornado>=5 in /usr/local/lib/python3.7/dist-packages (from distributed>=2012.12->auto-sklearn) (5.1.1)\n",
            "Requirement already satisfied: tblib>=1.6.0 in /usr/local/lib/python3.7/dist-packages (from distributed>=2012.12->auto-sklearn) (1.7.0)\n",
            "Requirement already satisfied: msgpack>=0.6.0 in /usr/local/lib/python3.7/dist-packages (from distributed>=2012.12->auto-sklearn) (1.0.4)\n",
            "Requirement already satisfied: python-dateutil>=2.7.3 in /usr/local/lib/python3.7/dist-packages (from pandas>=1.0->auto-sklearn) (2.8.2)\n",
            "Requirement already satisfied: pytz>=2017.3 in /usr/local/lib/python3.7/dist-packages (from pandas>=1.0->auto-sklearn) (2022.4)\n",
            "Requirement already satisfied: locket in /usr/local/lib/python3.7/dist-packages (from partd>=0.3.10->dask>=2021.12->auto-sklearn) (1.0.0)\n",
            "Requirement already satisfied: six>=1.5 in /usr/local/lib/python3.7/dist-packages (from python-dateutil>=2.7.3->pandas>=1.0->auto-sklearn) (1.15.0)\n",
            "Collecting emcee>=3.0.0\n",
            "  Downloading emcee-3.1.3-py2.py3-none-any.whl (46 kB)\n",
            "\u001b[K     |████████████████████████████████| 46 kB 4.0 MB/s \n",
            "\u001b[?25hRequirement already satisfied: heapdict in /usr/local/lib/python3.7/dist-packages (from zict>=0.1.3->distributed>=2012.12->auto-sklearn) (1.0.1)\n",
            "Requirement already satisfied: MarkupSafe>=0.23 in /usr/local/lib/python3.7/dist-packages (from jinja2->distributed>=2012.12->auto-sklearn) (2.0.1)\n",
            "Building wheels for collected packages: auto-sklearn, pynisher, smac, liac-arff\n",
            "  Building wheel for auto-sklearn (PEP 517) ... \u001b[?25l\u001b[?25hdone\n",
            "  Created wheel for auto-sklearn: filename=auto_sklearn-0.15.0-py3-none-any.whl size=6641946 sha256=b96dd57a818689f15f011d3822aa39801d8be017ef2bf5cfa00e2579bef5259f\n",
            "  Stored in directory: /root/.cache/pip/wheels/26/57/ce/ca63ad74b90273f9a682028d187645a42dce5c5255228d46c8\n",
            "  Building wheel for pynisher (setup.py) ... \u001b[?25l\u001b[?25hdone\n",
            "  Created wheel for pynisher: filename=pynisher-0.6.4-py3-none-any.whl size=7043 sha256=0d10ea52131f1fab50cdaab4bccff421feb74f6da349006e5a961049bffb69be\n",
            "  Stored in directory: /root/.cache/pip/wheels/42/71/95/7555ec3253e1ba8add72ae5febf1b015d297f3b73ba296d6f6\n",
            "  Building wheel for smac (setup.py) ... \u001b[?25l\u001b[?25hdone\n",
            "  Created wheel for smac: filename=smac-1.2-py3-none-any.whl size=215933 sha256=b4a5231d8ffbf17b3832daa3bf57619a83daec3f8153ac4ededebbe8735681a0\n",
            "  Stored in directory: /root/.cache/pip/wheels/ad/95/67/6afc6b04d3715070c853d0a9d7c7b1fb822def38671dfbbb9f\n",
            "  Building wheel for liac-arff (setup.py) ... \u001b[?25l\u001b[?25hdone\n",
            "  Created wheel for liac-arff: filename=liac_arff-2.5.0-py3-none-any.whl size=11732 sha256=e7bad3fe564b49816511cd4e0d687b924074cd4a1f0345adfef9c26ba762376a\n",
            "  Stored in directory: /root/.cache/pip/wheels/1f/0f/15/332ca86cbebf25ddf98518caaf887945fbe1712b97a0f2493b\n",
            "Successfully built auto-sklearn pynisher smac liac-arff\n",
            "Installing collected packages: scikit-learn, pyrfr, pynisher, emcee, ConfigSpace, smac, liac-arff, distro, auto-sklearn\n",
            "  Attempting uninstall: scikit-learn\n",
            "    Found existing installation: scikit-learn 1.0.2\n",
            "    Uninstalling scikit-learn-1.0.2:\n",
            "      Successfully uninstalled scikit-learn-1.0.2\n",
            "\u001b[31mERROR: pip's dependency resolver does not currently take into account all the packages that are installed. This behaviour is the source of the following dependency conflicts.\n",
            "yellowbrick 1.5 requires scikit-learn>=1.0.0, but you have scikit-learn 0.24.2 which is incompatible.\n",
            "mljar-supervised 0.11.3 requires scikit-learn>=1.0, but you have scikit-learn 0.24.2 which is incompatible.\u001b[0m\n",
            "Successfully installed ConfigSpace-0.4.21 auto-sklearn-0.15.0 distro-1.8.0 emcee-3.1.3 liac-arff-2.5.0 pynisher-0.6.4 pyrfr-0.8.3 scikit-learn-0.24.2 smac-1.2\n"
          ]
        }
      ]
    },
    {
      "cell_type": "code",
      "execution_count": 4,
      "metadata": {
        "id": "8fJcSAbnq7dl"
      },
      "outputs": [],
      "source": [
        "from autosklearn.classification import AutoSklearnClassifier\n",
        "from supervised.automl import AutoML\n",
        "from sklearn.model_selection import train_test_split\n",
        "from sklearn.metrics import accuracy_score,confusion_matrix,mean_squared_error,roc_curve,auc\n",
        "from sklearn.metrics import ConfusionMatrixDisplay\n",
        "import matplotlib.pyplot as plt \n",
        "import pandas as pd\n",
        "import numpy as np"
      ]
    },
    {
      "cell_type": "code",
      "execution_count": 5,
      "metadata": {
        "id": "Q1QFOu2MlwSR"
      },
      "outputs": [],
      "source": [
        "id_8_233_50 = \"1R5VUhPfBftEOzsJyniIGDraN8Eqp3NRO\"\n",
        "id_8_50 = \"1Wz4fmqiN2fwju-HoIYMdOkG1OqEE34rW\"\n",
        "downloaded = drive.CreateFile({'id':id_8_50}) \n",
        "downloaded.GetContentFile('data_8_50_+50.csv')  \n",
        "downloaded = drive.CreateFile({'id':id_8_233_50}) \n",
        "downloaded.GetContentFile('data_8_233_50.csv')  \n"
      ]
    },
    {
      "cell_type": "code",
      "execution_count": 6,
      "metadata": {
        "id": "SmX2DbiVlOUM"
      },
      "outputs": [],
      "source": [
        "\n",
        "df = pd.read_csv(\"data_8_50_+50.csv\")\n",
        "df_233 = pd.read_csv(\"data_8_233_50.csv\")"
      ]
    },
    {
      "cell_type": "markdown",
      "metadata": {
        "id": "3UIdZ5mMlOUO"
      },
      "source": [
        "# SPLIT DATA into Train and Test"
      ]
    },
    {
      "cell_type": "code",
      "execution_count": 7,
      "metadata": {
        "colab": {
          "base_uri": "https://localhost:8080/"
        },
        "id": "NnKknbTZKXrD",
        "outputId": "d57c66e7-59b1-4dcf-f729-5ccfa3714dde"
      },
      "outputs": [
        {
          "output_type": "stream",
          "name": "stdout",
          "text": [
            "0    69559\n",
            "1    26004\n",
            "Name: Type, dtype: int64\n",
            "0    2230\n",
            "1     848\n",
            "Name: Type, dtype: int64\n"
          ]
        }
      ],
      "source": [
        "print(df['Type'].value_counts())\n",
        "print(df_233['Type'].value_counts())\n"
      ]
    },
    {
      "cell_type": "code",
      "execution_count": 8,
      "metadata": {
        "id": "53FLCg0zxBNk"
      },
      "outputs": [],
      "source": [
        "MLII_X_global = df.iloc[:,5:405].values\n",
        "MLII_y_global = df['Type'].values\n",
        "\n",
        "MLII_X_train, MLII_X_test, MLII_y_train, MLII_y_test = train_test_split(MLII_X_global, MLII_y_global, train_size = .75)"
      ]
    },
    {
      "cell_type": "code",
      "execution_count": 9,
      "metadata": {
        "colab": {
          "base_uri": "https://localhost:8080/"
        },
        "id": "Ti3OKkZ-0KR3",
        "outputId": "7ed610c9-3366-4cee-fedc-476608de5de6"
      },
      "outputs": [
        {
          "output_type": "stream",
          "name": "stdout",
          "text": [
            "Test - Healthy\t 17333  Sick\t 6558\n",
            "Train - Healthy\t 52226  Sick\t 19446\n"
          ]
        }
      ],
      "source": [
        "unique, counts = np.unique(MLII_y_test,return_counts=True)\n",
        "\n",
        "print('Test - Healthy\\t',counts[0],' Sick\\t',counts[1])\n",
        "unique, counts = np.unique(MLII_y_train,return_counts=True)\n",
        "print('Train - Healthy\\t',counts[0],' Sick\\t',counts[1])"
      ]
    },
    {
      "cell_type": "code",
      "execution_count": 16,
      "metadata": {
        "id": "1C-EUI7vhABI"
      },
      "outputs": [],
      "source": [
        "automl = AutoML(\n",
        "    mode='Perform',\n",
        "    total_time_limit = 3000,\n",
        "    ml_task=\"binary_classification\",\n",
        "    train_ensemble= True,\n",
        "    eval_metric = \"f1\",\n",
        "    explain_level = 1,\n",
        "    algorithms = [\"LightGBM\"]\n",
        ")"
      ]
    },
    {
      "cell_type": "code",
      "execution_count": 17,
      "metadata": {
        "id": "gmqF7JvFl6SR",
        "colab": {
          "base_uri": "https://localhost:8080/"
        },
        "outputId": "1eb8b60a-2fa9-4b0b-e80f-9032d8377abe"
      },
      "outputs": [
        {
          "output_type": "stream",
          "name": "stdout",
          "text": [
            "AutoML steps: ['simple_algorithms', 'default_algorithms', 'not_so_random', 'golden_features', 'insert_random_feature', 'features_selection', 'hill_climbing_1', 'hill_climbing_2', 'ensemble']\n",
            "Skip simple_algorithms because no parameters were generated.\n",
            "* Step default_algorithms will try to check up to 1 model\n",
            "1_Default_LightGBM f1 0.973015 trained in 493.05 seconds (1-sample predict time 0.0851 seconds)\n",
            "* Step not_so_random will try to check up to 4 models\n",
            "2_LightGBM f1 0.968636 trained in 400.48 seconds (1-sample predict time 0.0676 seconds)\n",
            "3_LightGBM f1 0.975838 trained in 304.21 seconds (1-sample predict time 0.0584 seconds)\n",
            "4_LightGBM f1 0.972635 trained in 413.08 seconds (1-sample predict time 0.0575 seconds)\n",
            "5_LightGBM f1 0.973697 trained in 531.54 seconds (1-sample predict time 0.0813 seconds)\n",
            "Skip golden_features because no parameters were generated.\n",
            "Skip insert_random_feature because no parameters were generated.\n",
            "Skip features_selection because no parameters were generated.\n",
            "* Step hill_climbing_1 will try to check up to 2 models\n",
            "6_LightGBM f1 0.974254 trained in 313.8 seconds (1-sample predict time 0.0568 seconds)\n",
            "7_LightGBM f1 0.974608 trained in 394.26 seconds (1-sample predict time 0.0863 seconds)\n",
            "* Step hill_climbing_2 will try to check up to 1 model\n",
            "* Step ensemble will try to check up to 1 model\n",
            "Ensemble f1 0.975838 trained in 20.15 seconds (1-sample predict time 0.0782 seconds)\n",
            "AutoML fit time: 2891.42 seconds\n",
            "AutoML best model: 3_LightGBM\n"
          ]
        },
        {
          "output_type": "execute_result",
          "data": {
            "text/plain": [
              "AutoML(algorithms=['LightGBM'], eval_metric='f1', explain_level=1,\n",
              "       ml_task='binary_classification', mode='Perform', total_time_limit=3000)"
            ]
          },
          "metadata": {},
          "execution_count": 17
        }
      ],
      "source": [
        "automl.fit(MLII_X_train,MLII_y_train)"
      ]
    },
    {
      "cell_type": "code",
      "execution_count": 19,
      "metadata": {
        "id": "iNqETr1oqfsZ"
      },
      "outputs": [],
      "source": [
        "  predictions_y_test_automl = automl.predict_all(MLII_X_test)\n",
        "  predictions_y_train_automl = automl.predict_all(MLII_X_train)\n",
        "  accuracy_train_automl = accuracy_score(MLII_y_train,predictions_y_train_automl[\"label\"])\n",
        "  accuracy_test_automl = accuracy_score(MLII_y_test,predictions_y_test_automl[\"label\"])"
      ]
    },
    {
      "cell_type": "code",
      "execution_count": 20,
      "metadata": {
        "id": "CPlPKb0wqtBL",
        "colab": {
          "base_uri": "https://localhost:8080/"
        },
        "outputId": "4171b2ba-d47a-45d6-969f-c757f0971159"
      },
      "outputs": [
        {
          "output_type": "stream",
          "name": "stdout",
          "text": [
            "train accuracy  0.9999860475499498  test accuracy  0.9876941107530032\n"
          ]
        }
      ],
      "source": [
        "print(\"train accuracy \",accuracy_train_automl,\" test accuracy \", accuracy_test_automl)"
      ]
    },
    {
      "cell_type": "code",
      "source": [
        "fpr, tpr, thresholds = roc_curve(MLII_y_test, predictions_y_test_automl[\"label\"])\n",
        "cm = confusion_matrix(MLII_y_test,predictions_y_test_automl[\"label\"])\n",
        "tn,fn,fp,tp = confusion_matrix(MLII_y_test,predictions_y_test_automl[\"label\"]).ravel()\n",
        "disp = ConfusionMatrixDisplay(confusion_matrix=cm)\n",
        "disp.plot()\n",
        "AUC = auc(fpr, tpr)\n",
        "Precision = tp / (tp+fp)\n",
        "Recall = tp / (tp + fn)\n",
        "F1 = 2 * (Precision * Recall) / (Precision + Recall)"
      ],
      "metadata": {
        "colab": {
          "base_uri": "https://localhost:8080/",
          "height": 279
        },
        "id": "ARtzJBbBDS4y",
        "outputId": "4fa0e38e-f605-4a28-c061-cc492ed42975"
      },
      "execution_count": 21,
      "outputs": [
        {
          "output_type": "display_data",
          "data": {
            "text/plain": [
              "<Figure size 432x288 with 2 Axes>"
            ],
            "image/png": "[encoded data removed]"
          },
          "metadata": {
            "needs_background": "light"
          }
        }
      ]
    },
    {
      "cell_type": "code",
      "execution_count": 22,
      "metadata": {
        "id": "86Qm_G4Oq48w",
        "colab": {
          "base_uri": "https://localhost:8080/"
        },
        "outputId": "ba850924-7fe7-4c44-fcdd-ffd6b1b59bc8"
      },
      "outputs": [
        {
          "output_type": "stream",
          "name": "stdout",
          "text": [
            "Precision   \t\t 0.9626410491003354\n",
            "Recall   \t\t 0.9922980194907262\n",
            "AUC      \t\t 0.9799070358292308\n",
            "Accuracy test\t\t 0.9876941107530032\n",
            "Accuracy train\t\t 0.9999860475499498\n",
            "tn:  17284 fn  49 fp  245 tp  6313\n"
          ]
        }
      ],
      "source": [
        "AUC = auc(fpr, tpr)\n",
        "Precision = tp / (tp+fp)\n",
        "Recall = tp / (tp + fn)\n",
        "\n",
        "print('Precision   \\t\\t',Precision)\n",
        "print('Recall   \\t\\t',Recall)\n",
        "print('AUC      \\t\\t',AUC)\n",
        "print('Accuracy test\\t\\t',accuracy_test_automl)\n",
        "print('Accuracy train\\t\\t',accuracy_train_automl)\n",
        "print('tn: ',tn,'fn ',fn,'fp ',fp,'tp ',tp)"
      ]
    },
    {
      "cell_type": "code",
      "source": [
        "fpr, tpr, thresholds = roc_curve(MLII_y_test, predictions_y_test_automl[\"label\"])\n",
        "plt.subplots(1, figsize=(10,10))\n",
        "plt.title('ROC')\n",
        "plt.plot(fpr, tpr)\n",
        "plt.plot([0, 1], ls=\"--\")\n",
        "plt.plot([0, 0], [1, 0] , c=\".7\")\n",
        "plt.plot([1, 1] , c=\".7\")\n",
        "plt.ylabel('TPR')\n",
        "plt.xlabel('FPR')\n",
        "plt.show()"
      ],
      "metadata": {
        "colab": {
          "base_uri": "https://localhost:8080/",
          "height": 621
        },
        "id": "2-BaZxPBDeZx",
        "outputId": "0fc40c4e-9f70-41ed-89a1-21ed31a6cd16"
      },
      "execution_count": 23,
      "outputs": [
        {
          "output_type": "display_data",
          "data": {
            "text/plain": [
              "<Figure size 720x720 with 1 Axes>"
            ],
            "image/png": "[encoded data removed]"
          },
          "metadata": {
            "needs_background": "light"
          }
        }
      ]
    },
    {
      "cell_type": "markdown",
      "source": [
        "# Patient 233"
      ],
      "metadata": {
        "id": "zI5zuww1Em_1"
      }
    },
    {
      "cell_type": "code",
      "source": [
        "MLII_X_test_233 = df_233.iloc[:,5:405].values\n",
        "MLII_y_test_233 = df_233['Type'].values\n",
        "predictions_y_test_233 = automl.predict_all(MLII_X_test_233)"
      ],
      "metadata": {
        "id": "4UEwIwg0EZyJ"
      },
      "execution_count": 24,
      "outputs": []
    },
    {
      "cell_type": "code",
      "source": [
        "cm_233 = confusion_matrix(MLII_y_test_233,predictions_y_test_233[\"label\"])\n",
        "disp_233 = ConfusionMatrixDisplay(confusion_matrix=cm_233)\n",
        "disp_233.plot()"
      ],
      "metadata": {
        "colab": {
          "base_uri": "https://localhost:8080/",
          "height": 296
        },
        "id": "IfrxZmUiEOvB",
        "outputId": "92bc84ff-70dc-47ce-d379-21e8cdf150ae"
      },
      "execution_count": 25,
      "outputs": [
        {
          "output_type": "execute_result",
          "data": {
            "text/plain": [
              "<sklearn.metrics._plot.confusion_matrix.ConfusionMatrixDisplay at 0x7f0495eaac50>"
            ]
          },
          "metadata": {},
          "execution_count": 25
        },
        {
          "output_type": "display_data",
          "data": {
            "text/plain": [
              "<Figure size 432x288 with 2 Axes>"
            ],
            "image/png": "[encoded data removed]"
          },
          "metadata": {
            "needs_background": "light"
          }
        }
      ]
    },
    {
      "cell_type": "code",
      "execution_count": 26,
      "metadata": {
        "id": "aTpGvEb4p6s6",
        "colab": {
          "base_uri": "https://localhost:8080/"
        },
        "outputId": "ba78c6c1-d4f3-4936-c348-655acfcedf17"
      },
      "outputs": [
        {
          "output_type": "stream",
          "name": "stdout",
          "text": [
            "Precision   \t\t 0.9775943396226415\n",
            "Recall     \t\t 0.8717139852786541\n",
            "AUC      \t\t 0.9799070358292308\n",
            "Accuracy test\t\t 0.9541910331384016\n",
            "tn:  2108 fn  122 fp  19 tp  829\n"
          ]
        }
      ],
      "source": [
        "accuracy_test_233 = accuracy_score(MLII_y_test_233,predictions_y_test_233[\"label\"])\n",
        "tn,fn,fp,tp = confusion_matrix(MLII_y_test_233,predictions_y_test_233[\"label\"]).ravel()\n",
        "AUC = auc(fpr, tpr)\n",
        "Precision = tp / (tp+fp)\n",
        "Recall = tp / (tp + fn)\n",
        "\n",
        "print('Precision   \\t\\t',Precision)\n",
        "print('Recall     \\t\\t',Recall)\n",
        "print('AUC      \\t\\t',AUC)\n",
        "print('Accuracy test\\t\\t',accuracy_test_233)\n",
        "print('tn: ',tn,'fn ',fn,'fp ',fp,'tp ',tp)"
      ]
    },
    {
      "cell_type": "markdown",
      "metadata": {
        "id": "Aj9PDynFp30_"
      },
      "source": [
        "# AUTOSKLEARN LIBRARY"
      ]
    },
    {
      "cell_type": "code",
      "execution_count": 27,
      "metadata": {
        "id": "GXaQ2HCnqTEt"
      },
      "outputs": [],
      "source": [
        "MLII_X_global = df.iloc[:,5:405].values\n",
        "MLII_y_global = df['Type'].values\n",
        "\n",
        "MLII_X_train, MLII_X_test, MLII_y_train, MLII_y_test = train_test_split(MLII_X_global, MLII_y_global, train_size = .75)"
      ]
    },
    {
      "cell_type": "code",
      "execution_count": null,
      "metadata": {
        "id": "fEmylrrSlOUX"
      },
      "outputs": [],
      "source": [
        "\n",
        "model = AutoSklearnClassifier(time_left_for_this_task=60*60,memory_limit= 30000)\n",
        "model.fit(MLII_X_train,MLII_y_train)"
      ]
    },
    {
      "cell_type": "code",
      "execution_count": null,
      "metadata": {
        "id": "x8JbQ69JlOUX"
      },
      "outputs": [],
      "source": [
        "MLII_y_pred_test = model.predict(MLII_X_test)\n",
        "MLII_y_pred_train = model.predict(MLII_X_train)\n"
      ]
    },
    {
      "cell_type": "code",
      "execution_count": null,
      "metadata": {
        "id": "FqxlhiIOlOUX",
        "colab": {
          "base_uri": "https://localhost:8080/",
          "height": 621
        },
        "outputId": "a70e66f6-240d-4ff8-9bed-153e68677c1d"
      },
      "outputs": [
        {
          "output_type": "display_data",
          "data": {
            "text/plain": [
              "<Figure size 720x720 with 1 Axes>"
            ],
            "image/png": "[encoded data removed]"
          },
          "metadata": {
            "needs_background": "light"
          }
        }
      ],
      "source": [
        "fpr, tpr, thresholds = roc_curve(MLII_y_test, MLII_y_pred_test)\n",
        "AUC = auc(fpr, tpr)\n",
        "\n",
        "plt.subplots(1, figsize=(10,10))\n",
        "plt.title('ROC')\n",
        "plt.plot(fpr, tpr)\n",
        "plt.plot([0, 1], ls=\"--\")\n",
        "plt.plot([0, 0], [1, 0] , c=\".7\")\n",
        "plt.plot([1, 1] , c=\".7\")\n",
        "plt.ylabel('TPR')\n",
        "plt.xlabel('FPR')\n",
        "plt.show()"
      ]
    },
    {
      "cell_type": "code",
      "execution_count": null,
      "metadata": {
        "colab": {
          "base_uri": "https://localhost:8080/"
        },
        "id": "jNLRzo9BlOUY",
        "outputId": "afa4f883-071d-42b7-df42-83295c925c8f"
      },
      "outputs": [
        {
          "output_type": "stream",
          "name": "stdout",
          "text": [
            "Recall   \t\t 0.9934775692014\n",
            "Sensitivity\t\t 0.2642044252654736\n",
            "AUC      \t\t 0.996680036740811\n",
            "F1       \t\t 0.4174046719914447\n",
            "Accuracy test\t\t 0.9898241206030151\n",
            "Accuracy train\t\t 0.9966359106073508\n"
          ]
        }
      ],
      "source": [
        "accuracy_train = accuracy_score(MLII_y_train, MLII_y_pred_train)\n",
        "accuracy_test = accuracy_score(MLII_y_test, MLII_y_pred_test)\n",
        "tn,fp,fn,tp = confusion_matrix(MLII_y_test,MLII_y_pred_test).ravel()\n",
        "\n",
        "Precision = tp / (tp+fp)\n",
        "Recall = tp / (tp + tn)\n",
        "F1 = 2 * (Precision * Recall) / (Precision + Recall)\n",
        "print('Precision   \\t\\t',Precision)\n",
        "print('Recall   \\t\\t',Recall)\n",
        "print('AUC      \\t\\t',AUC)\n",
        "print(\"F1       \\t\\t\",F1)\n",
        "print('Accuracy test\\t\\t',accuracy_test)\n",
        "print('Accuracy train\\t\\t',accuracy_train)"
      ]
    },
    {
      "cell_type": "code",
      "source": [
        "print('tn: ',tn,'fp ',fp,'fn ',fn,'tp ',tp)"
      ],
      "metadata": {
        "colab": {
          "base_uri": "https://localhost:8080/"
        },
        "id": "gvN_FX8fxgHR",
        "outputId": "668490ae-c165-4b08-c19d-3010e0784b4c"
      },
      "execution_count": null,
      "outputs": [
        {
          "output_type": "stream",
          "name": "stdout",
          "text": [
            "tn:  17392 fp  41 fn  202 tp  6245\n"
          ]
        }
      ]
    },
    {
      "cell_type": "code",
      "execution_count": null,
      "metadata": {
        "colab": {
          "base_uri": "https://localhost:8080/"
        },
        "id": "cd8NFcuE42pm",
        "outputId": "e61d690a-2905-44c2-d911-ccfc9afdee39"
      },
      "outputs": [
        {
          "output_type": "stream",
          "name": "stdout",
          "text": [
            "          rank  ensemble_weight               type      cost    duration\n",
            "model_id                                                                \n",
            "16           1             0.20  gradient_boosting  0.010744  100.110121\n",
            "4            2             0.40  gradient_boosting  0.011167   60.934243\n",
            "5            3             0.06  gradient_boosting  0.013578  145.978450\n",
            "18           4             0.30        extra_trees  0.018020  121.168320\n",
            "14           5             0.04                mlp  0.048898   88.747553\n"
          ]
        }
      ],
      "source": [
        "print(model.leaderboard())"
      ]
    }
  ],
  "metadata": {
    "colab": {
      "collapsed_sections": [],
      "provenance": [],
      "include_colab_link": true
    },
    "interpreter": {
      "hash": "916dbcbb3f70747c44a77c7bcd40155683ae19c65e1c03b4aa3499c5328201f1"
    },
    "kernelspec": {
      "display_name": "Python 3 (ipykernel)",
      "language": "python",
      "name": "python3"
    },
    "language_info": {
      "codemirror_mode": {
        "name": "ipython",
        "version": 3
      },
      "file_extension": ".py",
      "mimetype": "text/x-python",
      "name": "python",
      "nbconvert_exporter": "python",
      "pygments_lexer": "ipython3",
      "version": "3.10.5"
    },
    "vscode": {
      "interpreter": {
        "hash": "1fbc878955697c1d598f73e97ecbe223537ad785f1c981e8f3c1b27488c025fb"
      }
    }
  },
  "nbformat": 4,
  "nbformat_minor": 0
}