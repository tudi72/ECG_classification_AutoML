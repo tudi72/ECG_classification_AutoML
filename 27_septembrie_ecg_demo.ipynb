{
  "cells": [
    {
      "cell_type": "markdown",
      "metadata": {
        "id": "view-in-github",
        "colab_type": "text"
      },
      "source": [
        "<a href=\"https://colab.research.google.com/github/tudi72/ECG_classification_AutoML/blob/main/27_septembrie_ecg_demo.ipynb\" target=\"_parent\"><img src=\"https://colab.research.google.com/assets/colab-badge.svg\" alt=\"Open In Colab\"/></a>"
      ]
    },
    {
      "cell_type": "markdown",
      "metadata": {
        "id": "Yq2W1Ls0lOUG"
      },
      "source": [
        "# READING DATA"
      ]
    },
    {
      "cell_type": "code",
      "source": [
        "# Code to read csv file into Colaboratory:\n",
        "!pip install -U -q PyDrive\n",
        "from pydrive.auth import GoogleAuth\n",
        "from pydrive.drive import GoogleDrive\n",
        "from google.colab import auth\n",
        "from oauth2client.client import GoogleCredentials\n",
        "# Authenticate and create the PyDrive client.\n",
        "auth.authenticate_user()\n",
        "gauth = GoogleAuth()\n",
        "gauth.credentials = GoogleCredentials.get_application_default()\n",
        "drive = GoogleDrive(gauth)"
      ],
      "metadata": {
        "id": "TPP41aM40cok"
      },
      "execution_count": null,
      "outputs": []
    },
    {
      "cell_type": "code",
      "source": [
        "# link = \"https://drive.google.com/file/d/1aHdFqb_mAxsF-gywZpzX4-aaCFGZ9vVQ/view?usp=sharing\"\n",
        "# fluff, id = link.split('=')\n",
        "id = \"1aHdFqb_mAxsF-gywZpzX4-aaCFGZ9vVQ\"\n",
        "downloaded = drive.CreateFile({'id':id}) \n",
        "downloaded.GetContentFile('data_8.csv')  \n"
      ],
      "metadata": {
        "id": "Q1QFOu2MlwSR"
      },
      "execution_count": null,
      "outputs": []
    },
    {
      "cell_type": "code",
      "execution_count": null,
      "metadata": {
        "id": "SmX2DbiVlOUM"
      },
      "outputs": [],
      "source": [
        "import pandas as pd\n",
        "df_global = pd.read_csv('data_8.csv')\n",
        "# df_train = pd.read_csv('data_8_train.csv')\n",
        "# df_test = pd.read_csv('data_8_test.csv')"
      ]
    },
    {
      "cell_type": "markdown",
      "metadata": {
        "id": "3UIdZ5mMlOUO"
      },
      "source": [
        "# SPLIT DATA into Train and Test"
      ]
    },
    {
      "cell_type": "code",
      "source": [
        "# print(df_train['Type'].value_counts())\n",
        "# print(df_test['Type'].value_counts())\n",
        "print(df_global['Type'].value_counts())"
      ],
      "metadata": {
        "colab": {
          "base_uri": "https://localhost:8080/"
        },
        "id": "NnKknbTZKXrD",
        "outputId": "d71ef47f-92b3-4176-c549-20c4c9d3693c"
      },
      "execution_count": null,
      "outputs": [
        {
          "output_type": "stream",
          "name": "stdout",
          "text": [
            "0    76557\n",
            "1    29107\n",
            "Name: Type, dtype: int64\n"
          ]
        }
      ]
    },
    {
      "cell_type": "code",
      "execution_count": null,
      "metadata": {
        "id": "lG5EXJnblOUW"
      },
      "outputs": [],
      "source": [
        "# MLII_X_train = df_train.iloc[:,5:55].values\n",
        "# MLII_y_train = df_train['Type'].values.reshape(-1,1)\n",
        "\n",
        "# MLII_X_test = df_test.iloc[:,5:55].values\n",
        "# MLII_y_test = df_test['Type'].values.reshape(-1,1)"
      ]
    },
    {
      "cell_type": "code",
      "source": [
        "# import numpy as np\n",
        "# unique, counts = np.unique(MLII_y_test,return_counts=True)\n",
        "\n",
        "# print('Test - Healthy\\t',counts[0],' Sick\\t',counts[1])\n",
        "# unique, counts = np.unique(MLII_y_train,return_counts=True)\n",
        "# print('Train - Healthy\\t',counts[0],' Sick\\t',counts[1])\n"
      ],
      "metadata": {
        "id": "U07e-lKyQ2J7",
        "colab": {
          "base_uri": "https://localhost:8080/"
        },
        "outputId": "4b552b78-078c-479e-f75f-c644449ec428"
      },
      "execution_count": null,
      "outputs": [
        {
          "output_type": "stream",
          "name": "stdout",
          "text": [
            "Test - Healthy\t 20548  Sick\t 7653\n",
            "Train - Healthy\t 59952  Sick\t 21822\n"
          ]
        }
      ]
    },
    {
      "cell_type": "code",
      "source": [
        "!sudo apt-get install build-essential swig\n",
        "!curl https://raw.githubusercontent.com/automl/auto-sklearn/master/requirements.txt | xargs -n 1 -L 1 pip install\n",
        "!pip install auto-sklearn\n",
        "!pip install mljar-supervised\n",
        "for _ in range(3):\n",
        "    try:\n",
        "        import autosklearn.classification\n",
        "        break\n",
        "    except:\n",
        "        pass\n",
        "else:\n",
        "    raise ImportError(\"failed to import from autosklearn\")"
      ],
      "metadata": {
        "id": "EbKfl7OHQAEA"
      },
      "execution_count": null,
      "outputs": []
    },
    {
      "cell_type": "code",
      "source": [
        "from sklearn.model_selection import StratifiedKFold,train_test_split\n",
        "from supervised.automl import AutoML\n",
        "import numpy as np\n",
        "from sklearn.metrics import accuracy_score,confusion_matrix"
      ],
      "metadata": {
        "id": "dMMC7ydKw-ad"
      },
      "execution_count": null,
      "outputs": []
    },
    {
      "cell_type": "code",
      "source": [
        "# K fold cross validation\n",
        "#\n",
        "strtfdKFold = StratifiedKFold(n_splits=10)\n",
        "\n",
        "MLII_X_global = df_global.iloc[:,5:55]\n",
        "MLII_y_global = df_global['Type']\n",
        "\n",
        "X_train, X_test, y_train, y_test = train_test_split(MLII_X_global, MLII_y_global, random_state=0, train_size = .75)\n",
        "kfold = strtfdKFold.split(X_train, y_train)\n"
      ],
      "metadata": {
        "id": "53FLCg0zxBNk"
      },
      "execution_count": null,
      "outputs": []
    },
    {
      "cell_type": "code",
      "source": [
        "y_train.value_counts()"
      ],
      "metadata": {
        "colab": {
          "base_uri": "https://localhost:8080/"
        },
        "id": "GV8uoEnr3eSE",
        "outputId": "aa81e5de-870d-40b4-d8fe-3ae572b27c15"
      },
      "execution_count": null,
      "outputs": [
        {
          "output_type": "execute_result",
          "data": {
            "text/plain": [
              "0    57461\n",
              "1    21787\n",
              "Name: Type, dtype: int64"
            ]
          },
          "metadata": {},
          "execution_count": 109
        }
      ]
    },
    {
      "cell_type": "code",
      "source": [
        "automl = AutoML(validation_strategy = {\n",
        "    \"validation_type\": \"kfold\",\n",
        "    \"k_folds\": 5,\n",
        "    \"shuffle\": True,\n",
        "    \"stratify\": True,\n",
        "    \"random_seed\": 123\n",
        "},eval_metric = auc)\n",
        "\n",
        "\n",
        "automl.fit(X_train,y_train)\n"
      ],
      "metadata": {
        "colab": {
          "base_uri": "https://localhost:8080/",
          "height": 747
        },
        "id": "BnSvDKaZy2MB",
        "outputId": "c751c632-035f-409c-b884-758083a300ba"
      },
      "execution_count": null,
      "outputs": [
        {
          "output_type": "stream",
          "name": "stdout",
          "text": [
            "Linear algorithm was disabled.\n",
            "AutoML directory: AutoML_4\n",
            "The task is binary_classification with evaluation metric user_defined_metric\n",
            "AutoML will use algorithms: ['Baseline', 'Decision Tree', 'Random Forest', 'Xgboost', 'Neural Network']\n",
            "AutoML will ensemble available models\n",
            "AutoML steps: ['simple_algorithms', 'default_algorithms', 'ensemble']\n",
            "* Step simple_algorithms will try to check up to 2 models\n",
            "There was an error during 1_Baseline training.\n",
            "Please check AutoML_4/errors.md for details.\n",
            "There was an error during 2_DecisionTree training.\n",
            "Please check AutoML_4/errors.md for details.\n",
            "* Step default_algorithms will try to check up to 3 models\n"
          ]
        },
        {
          "output_type": "stream",
          "name": "stderr",
          "text": [
            "`feval` is deprecated, use `custom_metric` instead.  They have different behavior when custom objective is also used.See https://xgboost.readthedocs.io/en/latest/tutorials/custom_metric_obj.html for details on the `custom_metric`.\n"
          ]
        },
        {
          "output_type": "stream",
          "name": "stdout",
          "text": [
            "There was an error during 1_Default_Xgboost training.\n",
            "Please check AutoML_4/errors.md for details.\n",
            "There was an error during 2_Default_NeuralNetwork training.\n",
            "Please check AutoML_4/errors.md for details.\n",
            "There was an error during 3_Default_RandomForest training.\n",
            "Please check AutoML_4/errors.md for details.\n",
            "[ERROR] [2022-09-27 21:34:51,438:supervised.exceptions] No models produced. \n",
            "Please check your data or submit a Github issue at https://github.com/mljar/mljar-supervised/issues/new.\n"
          ]
        },
        {
          "output_type": "error",
          "ename": "AutoMLException",
          "evalue": "ignored",
          "traceback": [
            "\u001b[0;31m---------------------------------------------------------------------------\u001b[0m",
            "\u001b[0;31mAutoMLException\u001b[0m                           Traceback (most recent call last)",
            "\u001b[0;32m<ipython-input-107-1b7214141d2c>\u001b[0m in \u001b[0;36m<module>\u001b[0;34m\u001b[0m\n\u001b[1;32m      8\u001b[0m \u001b[0;34m\u001b[0m\u001b[0m\n\u001b[1;32m      9\u001b[0m \u001b[0;34m\u001b[0m\u001b[0m\n\u001b[0;32m---> 10\u001b[0;31m \u001b[0mautoml\u001b[0m\u001b[0;34m.\u001b[0m\u001b[0mfit\u001b[0m\u001b[0;34m(\u001b[0m\u001b[0mX_train\u001b[0m\u001b[0;34m,\u001b[0m\u001b[0my_train\u001b[0m\u001b[0;34m)\u001b[0m\u001b[0;34m\u001b[0m\u001b[0;34m\u001b[0m\u001b[0m\n\u001b[0m",
            "\u001b[0;32m/usr/local/lib/python3.7/dist-packages/supervised/automl.py\u001b[0m in \u001b[0;36mfit\u001b[0;34m(self, X, y, sample_weight, cv)\u001b[0m\n\u001b[1;32m    366\u001b[0m             \u001b[0mAutoML\u001b[0m \u001b[0mobject\u001b[0m\u001b[0;34m:\u001b[0m \u001b[0mReturns\u001b[0m\u001b[0;31m \u001b[0m\u001b[0;31m`\u001b[0m\u001b[0mself\u001b[0m\u001b[0;31m`\u001b[0m\u001b[0;34m\u001b[0m\u001b[0;34m\u001b[0m\u001b[0m\n\u001b[1;32m    367\u001b[0m         \"\"\"\n\u001b[0;32m--> 368\u001b[0;31m         \u001b[0;32mreturn\u001b[0m \u001b[0mself\u001b[0m\u001b[0;34m.\u001b[0m\u001b[0m_fit\u001b[0m\u001b[0;34m(\u001b[0m\u001b[0mX\u001b[0m\u001b[0;34m,\u001b[0m \u001b[0my\u001b[0m\u001b[0;34m,\u001b[0m \u001b[0msample_weight\u001b[0m\u001b[0;34m,\u001b[0m \u001b[0mcv\u001b[0m\u001b[0;34m)\u001b[0m\u001b[0;34m\u001b[0m\u001b[0;34m\u001b[0m\u001b[0m\n\u001b[0m\u001b[1;32m    369\u001b[0m \u001b[0;34m\u001b[0m\u001b[0m\n\u001b[1;32m    370\u001b[0m     \u001b[0;32mdef\u001b[0m \u001b[0mpredict\u001b[0m\u001b[0;34m(\u001b[0m\u001b[0mself\u001b[0m\u001b[0;34m,\u001b[0m \u001b[0mX\u001b[0m\u001b[0;34m:\u001b[0m \u001b[0mUnion\u001b[0m\u001b[0;34m[\u001b[0m\u001b[0mList\u001b[0m\u001b[0;34m,\u001b[0m \u001b[0mnumpy\u001b[0m\u001b[0;34m.\u001b[0m\u001b[0mndarray\u001b[0m\u001b[0;34m,\u001b[0m \u001b[0mpandas\u001b[0m\u001b[0;34m.\u001b[0m\u001b[0mDataFrame\u001b[0m\u001b[0;34m]\u001b[0m\u001b[0;34m)\u001b[0m \u001b[0;34m->\u001b[0m \u001b[0mnumpy\u001b[0m\u001b[0;34m.\u001b[0m\u001b[0mndarray\u001b[0m\u001b[0;34m:\u001b[0m\u001b[0;34m\u001b[0m\u001b[0;34m\u001b[0m\u001b[0m\n",
            "\u001b[0;32m/usr/local/lib/python3.7/dist-packages/supervised/base_automl.py\u001b[0m in \u001b[0;36m_fit\u001b[0;34m(self, X, y, sample_weight, cv)\u001b[0m\n\u001b[1;32m   1124\u001b[0m \u001b[0;34m\u001b[0m\u001b[0m\n\u001b[1;32m   1125\u001b[0m         \u001b[0;32mexcept\u001b[0m \u001b[0mException\u001b[0m \u001b[0;32mas\u001b[0m \u001b[0me\u001b[0m\u001b[0;34m:\u001b[0m\u001b[0;34m\u001b[0m\u001b[0;34m\u001b[0m\u001b[0m\n\u001b[0;32m-> 1126\u001b[0;31m             \u001b[0;32mraise\u001b[0m \u001b[0me\u001b[0m\u001b[0;34m\u001b[0m\u001b[0;34m\u001b[0m\u001b[0m\n\u001b[0m\u001b[1;32m   1127\u001b[0m \u001b[0;34m\u001b[0m\u001b[0m\n\u001b[1;32m   1128\u001b[0m         \u001b[0;32mreturn\u001b[0m \u001b[0mself\u001b[0m\u001b[0;34m\u001b[0m\u001b[0;34m\u001b[0m\u001b[0m\n",
            "\u001b[0;32m/usr/local/lib/python3.7/dist-packages/supervised/base_automl.py\u001b[0m in \u001b[0;36m_fit\u001b[0;34m(self, X, y, sample_weight, cv)\u001b[0m\n\u001b[1;32m   1042\u001b[0m                     \u001b[0;32mif\u001b[0m \u001b[0mlen\u001b[0m\u001b[0;34m(\u001b[0m\u001b[0mself\u001b[0m\u001b[0;34m.\u001b[0m\u001b[0m_models\u001b[0m\u001b[0;34m)\u001b[0m \u001b[0;34m==\u001b[0m \u001b[0;36m0\u001b[0m\u001b[0;34m:\u001b[0m\u001b[0;34m\u001b[0m\u001b[0;34m\u001b[0m\u001b[0m\n\u001b[1;32m   1043\u001b[0m                         raise AutoMLException(\n\u001b[0;32m-> 1044\u001b[0;31m                             \u001b[0;34m\"No models produced. \\nPlease check your data or\"\u001b[0m\u001b[0;34m\u001b[0m\u001b[0;34m\u001b[0m\u001b[0m\n\u001b[0m\u001b[1;32m   1045\u001b[0m                             \u001b[0;34m\" submit a Github issue at https://github.com/mljar/mljar-supervised/issues/new.\"\u001b[0m\u001b[0;34m\u001b[0m\u001b[0;34m\u001b[0m\u001b[0m\n\u001b[1;32m   1046\u001b[0m                         )\n",
            "\u001b[0;31mAutoMLException\u001b[0m: No models produced. \nPlease check your data or submit a Github issue at https://github.com/mljar/mljar-supervised/issues/new."
          ]
        }
      ]
    },
    {
      "cell_type": "code",
      "source": [
        "train_accuracy = accuracy_score(X_train, y_train)"
      ],
      "metadata": {
        "id": "YlycSMLm2krJ"
      },
      "execution_count": null,
      "outputs": []
    },
    {
      "cell_type": "code",
      "source": [
        "\n",
        "\n",
        "# automl = AutoML()\n",
        "# MLII_X_train_automl = df_train.iloc[:,5:55]\n",
        "# MLII_y_train_automl = df_train['Type']\n",
        "\n",
        "# MLII_X_test_automl = df_test.iloc[:,5:55]\n",
        "# MLII_y_test_automl = df_test['Type']\n",
        "\n",
        "\n",
        "# model_automl = AutoML()\n",
        "# model_automl.fit(MLII_X_train_automl, MLII_y_train_automl)"
      ],
      "metadata": {
        "colab": {
          "base_uri": "https://localhost:8080/"
        },
        "id": "ad-fdJl4M3Tc",
        "outputId": "abe5d2f5-d564-4355-f263-50336a37bf2d"
      },
      "execution_count": null,
      "outputs": [
        {
          "output_type": "stream",
          "name": "stdout",
          "text": [
            "Linear algorithm was disabled.\n",
            "AutoML directory: AutoML_1\n",
            "The task is binary_classification with evaluation metric logloss\n",
            "AutoML will use algorithms: ['Baseline', 'Decision Tree', 'Random Forest', 'Xgboost', 'Neural Network']\n",
            "AutoML will ensemble available models\n",
            "AutoML steps: ['simple_algorithms', 'default_algorithms', 'ensemble']\n",
            "* Step simple_algorithms will try to check up to 2 models\n",
            "1_Baseline logloss 0.580126 trained in 1.13 seconds\n",
            "[WARNING] [2022-09-27 18:34:45,896:matplotlib.font_manager] findfont: Font family ['Arial'] not found. Falling back to DejaVu Sans.\n",
            "[WARNING] [2022-09-27 18:34:53,085:matplotlib.font_manager] findfont: Font family ['Arial'] not found. Falling back to DejaVu Sans.\n",
            "[WARNING] [2022-09-27 18:34:53,102:matplotlib.font_manager] findfont: Font family ['Arial'] not found. Falling back to DejaVu Sans.\n",
            "[WARNING] [2022-09-27 18:34:54,082:matplotlib.font_manager] findfont: Font family ['Arial'] not found. Falling back to DejaVu Sans.\n",
            "2_DecisionTree logloss 0.354304 trained in 27.36 seconds\n",
            "* Step default_algorithms will try to check up to 3 models\n",
            "3_Default_Xgboost logloss 0.094505 trained in 222.08 seconds\n",
            "4_Default_NeuralNetwork logloss 0.144999 trained in 79.34 seconds\n",
            "5_Default_RandomForest logloss 0.294777 trained in 155.04 seconds\n",
            "* Step ensemble will try to check up to 1 model\n",
            "Ensemble logloss 0.093795 trained in 5.04 seconds\n",
            "AutoML fit time: 503.43 seconds\n",
            "AutoML best model: Ensemble\n"
          ]
        },
        {
          "output_type": "execute_result",
          "data": {
            "text/plain": [
              "AutoML()"
            ]
          },
          "metadata": {},
          "execution_count": 34
        }
      ]
    },
    {
      "cell_type": "code",
      "source": [
        "from sklearn.metrics import accuracy_score,confusion_matrix,mean_squared_error"
      ],
      "metadata": {
        "id": "vSC2PysmaGPU"
      },
      "execution_count": null,
      "outputs": []
    },
    {
      "cell_type": "code",
      "source": [
        "# compute the accuracy on test data\n",
        "predictions_y_test_automl = model_automl.predict_all(MLII_X_test_automl)"
      ],
      "metadata": {
        "id": "o8g0CyTuO5K2"
      },
      "execution_count": null,
      "outputs": []
    },
    {
      "cell_type": "code",
      "source": [
        "print(predictions_y_test_automl.tail())"
      ],
      "metadata": {
        "colab": {
          "base_uri": "https://localhost:8080/"
        },
        "id": "iNr8wdODbvCT",
        "outputId": "cb6bfe0b-7472-4791-e7b1-ffe98ba73929"
      },
      "execution_count": null,
      "outputs": [
        {
          "output_type": "stream",
          "name": "stdout",
          "text": [
            "       prediction_0  prediction_1  label\n",
            "28196      0.922219      0.077781      0\n",
            "28197      0.818549      0.181451      0\n",
            "28198      0.982662      0.017338      0\n",
            "28199      0.980275      0.019725      0\n",
            "28200      0.883157      0.116843      0\n"
          ]
        }
      ]
    },
    {
      "cell_type": "code",
      "source": [
        "\n",
        "accuracy_test = accuracy_score(MLII_y_test_automl,predictions_y_test_automl[\"label\"])\n",
        "MSE =  mean_squared_error(MLII_y_test_automl,predictions_y_test_automl[\"label\"])\n",
        "\n",
        "print(\"Test accuracy:\", accuracy_test)\n",
        "print(\"Test MSE:\",MSE)"
      ],
      "metadata": {
        "colab": {
          "base_uri": "https://localhost:8080/"
        },
        "id": "CuvVXHEQZrIb",
        "outputId": "854f0150-cf96-436e-cb9f-c3464266ffab"
      },
      "execution_count": null,
      "outputs": [
        {
          "output_type": "stream",
          "name": "stdout",
          "text": [
            "Test accuracy: 0.6385234566150136\n",
            "Test MSE: 0.36147654338498636\n"
          ]
        }
      ]
    },
    {
      "cell_type": "code",
      "execution_count": null,
      "metadata": {
        "colab": {
          "base_uri": "https://localhost:8080/"
        },
        "id": "fEmylrrSlOUX",
        "outputId": "a8b2d260-ebec-4c5e-c40d-2a3e85b221a2"
      },
      "outputs": [
        {
          "output_type": "stream",
          "name": "stdout",
          "text": [
            "[WARNING] [2022-09-27 19:54:05,612:Client-EnsembleBuilder] No runs were available to build an ensemble from\n",
            "[WARNING] [2022-09-27 19:56:06,873:Client-EnsembleBuilder] No runs were available to build an ensemble from\n",
            "[WARNING] [2022-09-27 19:58:08,148:Client-EnsembleBuilder] No runs were available to build an ensemble from\n"
          ]
        },
        {
          "output_type": "execute_result",
          "data": {
            "text/plain": [
              "AutoSklearnClassifier(ensemble_class=<class 'autosklearn.ensembles.ensemble_selection.EnsembleSelection'>,\n",
              "                      memory_limit=30000, per_run_time_limit=120,\n",
              "                      time_left_for_this_task=1200)"
            ]
          },
          "metadata": {},
          "execution_count": 68
        }
      ],
      "source": [
        "from autosklearn.classification import AutoSklearnClassifier\n",
        "\n",
        "model = AutoSklearnClassifier(time_left_for_this_task=20*60,memory_limit= 30000)\n",
        "\n",
        "model.fit(MLII_X_train,MLII_y_train)\n"
      ]
    },
    {
      "cell_type": "code",
      "execution_count": null,
      "metadata": {
        "id": "x8JbQ69JlOUX"
      },
      "outputs": [],
      "source": [
        "MLII_y_pred_test = model.predict(MLII_X_test)\n",
        "MLII_y_pred_train = model.predict(MLII_X_train)\n"
      ]
    },
    {
      "cell_type": "code",
      "execution_count": null,
      "metadata": {
        "colab": {
          "base_uri": "https://localhost:8080/",
          "height": 621
        },
        "id": "FqxlhiIOlOUX",
        "outputId": "c5a18491-5864-4c00-960c-ac56d64af095"
      },
      "outputs": [
        {
          "output_type": "display_data",
          "data": {
            "text/plain": [
              "<Figure size 720x720 with 1 Axes>"
            ],
            "image/png": "[encoded data removed]"
          },
          "metadata": {
            "needs_background": "light"
          }
        }
      ],
      "source": [
        "from sklearn.metrics import roc_curve,auc\n",
        "import matplotlib.pyplot as plt \n",
        "\n",
        "fpr, tpr, thresholds = roc_curve(MLII_y_test, MLII_y_pred)\n",
        "AUC = auc(fpr, tpr)\n",
        "\n",
        "plt.subplots(1, figsize=(10,10))\n",
        "plt.title('ROC')\n",
        "plt.plot(fpr, tpr)\n",
        "plt.plot([0, 1], ls=\"--\")\n",
        "plt.plot([0, 0], [1, 0] , c=\".7\")\n",
        "plt.plot([1, 1] , c=\".7\")\n",
        "plt.ylabel('TPR')\n",
        "plt.xlabel('FPR')\n",
        "plt.show()"
      ]
    },
    {
      "cell_type": "code",
      "execution_count": null,
      "metadata": {
        "colab": {
          "base_uri": "https://localhost:8080/"
        },
        "id": "jNLRzo9BlOUY",
        "outputId": "0760e5cb-d0b6-4fe3-842d-20e0cb2ba7cb"
      },
      "outputs": [
        {
          "output_type": "stream",
          "name": "stdout",
          "text": [
            "Recall   \t\t 0.30346160604463185\n",
            "Sensitivity\t\t 0.17609951132829854\n",
            "AUC      \t\t 0.5163744932047576\n",
            "Accuracy test\t\t 0.6570688982660189\n",
            "Accuracy train\t\t 0.8914080270012473\n"
          ]
        }
      ],
      "source": [
        "from sklearn.metrics import accuracy_score,confusion_matrix\n",
        "\n",
        "accuracy_train = accuracy_score(MLII_y_train, MLII_y_pred_train)\n",
        "accuracy_test = accuracy_score(MLII_y_test, MLII_y_pred_test)\n",
        "\n",
        "tn,fp,fn,tp = confusion_matrix(MLII_y_test,MLII_y_pred).ravel()\n",
        "Recall = tp / (tp+fp)\n",
        "Sensitivity = tp / (tp + tn)\n",
        "\n",
        "\n",
        "print('Recall   \\t\\t',TPR)\n",
        "print('Sensitivity\\t\\t',FPR)\n",
        "print('AUC      \\t\\t',AUC)\n",
        "print('Accuracy test\\t\\t',accuracy_test)\n",
        "print('Accuracy train\\t\\t',accuracy_train)\n"
      ]
    },
    {
      "cell_type": "code",
      "source": [
        "print(model.leaderboard())"
      ],
      "metadata": {
        "colab": {
          "base_uri": "https://localhost:8080/"
        },
        "id": "cd8NFcuE42pm",
        "outputId": "e772c4f5-6cd7-4c93-c60f-b71552760043"
      },
      "execution_count": null,
      "outputs": [
        {
          "output_type": "stream",
          "name": "stdout",
          "text": [
            "          rank  ensemble_weight           type      cost    duration\n",
            "model_id                                                            \n",
            "9            1             0.46            sgd  0.155117    6.117559\n",
            "11           2             0.54  random_forest  0.183132  106.965329\n"
          ]
        }
      ]
    }
  ],
  "metadata": {
    "interpreter": {
      "hash": "916dbcbb3f70747c44a77c7bcd40155683ae19c65e1c03b4aa3499c5328201f1"
    },
    "kernelspec": {
      "display_name": "Python 3 (ipykernel)",
      "language": "python",
      "name": "python3"
    },
    "language_info": {
      "codemirror_mode": {
        "name": "ipython",
        "version": 3
      },
      "file_extension": ".py",
      "mimetype": "text/x-python",
      "name": "python",
      "nbconvert_exporter": "python",
      "pygments_lexer": "ipython3",
      "version": "3.10.5"
    },
    "vscode": {
      "interpreter": {
        "hash": "1fbc878955697c1d598f73e97ecbe223537ad785f1c981e8f3c1b27488c025fb"
      }
    },
    "colab": {
      "provenance": [],
      "collapsed_sections": [],
      "include_colab_link": true
    }
  },
  "nbformat": 4,
  "nbformat_minor": 0
}