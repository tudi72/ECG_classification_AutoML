{
  "cells": [
    {
      "cell_type": "markdown",
      "metadata": {
        "id": "view-in-github",
        "colab_type": "text"
      },
      "source": [
        "<a href=\"https://colab.research.google.com/github/tudi72/ECG_classification_AutoML/blob/main/27_septembrie_ecg_demo.ipynb\" target=\"_parent\"><img src=\"https://colab.research.google.com/assets/colab-badge.svg\" alt=\"Open In Colab\"/></a>"
      ]
    },
    {
      "cell_type": "markdown",
      "metadata": {
        "id": "Yq2W1Ls0lOUG"
      },
      "source": [
        "# READING DATA"
      ]
    },
    {
      "cell_type": "code",
      "execution_count": null,
      "metadata": {
        "id": "TPP41aM40cok"
      },
      "outputs": [],
      "source": [
        "# Code to read csv file into Colaboratory:\n",
        "!pip install -U -q PyDrive\n",
        "from pydrive.auth import GoogleAuth\n",
        "from pydrive.drive import GoogleDrive\n",
        "from google.colab import auth\n",
        "from oauth2client.client import GoogleCredentials\n",
        "# Authenticate and create the PyDrive client.\n",
        "auth.authenticate_user()\n",
        "gauth = GoogleAuth()\n",
        "gauth.credentials = GoogleCredentials.get_application_default()\n",
        "drive = GoogleDrive(gauth)"
      ]
    },
    {
      "cell_type": "code",
      "source": [
        "# !sudo apt-get install build-essential swig\n",
        "# !curl https://raw.githubusercontent.com/automl/auto-sklearn/master/requirements.txt | xargs -n 1 -L 1 pip install\n",
        "# !pip install auto-sklearn\n",
        "# !pip install mljar-supervised\n",
        "# for _ in range(3):\n",
        "#     try:\n",
        "#         import autosklearn.classification\n",
        "#         break\n",
        "#     except:\n",
        "#         pass\n",
        "# else:\n",
        "#     raise ImportError(\"failed to import from autosklearn\")"
      ],
      "metadata": {
        "colab": {
          "base_uri": "https://localhost:8080/"
        },
        "id": "KEv1_qLaPrRG",
        "outputId": "faf20159-5939-49a1-a85f-26fdecb6d51f"
      },
      "execution_count": null,
      "outputs": [
        {
          "output_type": "execute_result",
          "data": {
            "text/plain": [
              "()"
            ]
          },
          "metadata": {},
          "execution_count": 2
        }
      ]
    },
    {
      "cell_type": "code",
      "source": [
        "!pip install percentile\n",
        "!pip install mljar-supervised\n",
        "!pip install auto-sklearn"
      ],
      "metadata": {
        "id": "OcKbnGLHSEQj"
      },
      "execution_count": null,
      "outputs": []
    },
    {
      "cell_type": "code",
      "execution_count": null,
      "metadata": {
        "id": "8fJcSAbnq7dl"
      },
      "outputs": [],
      "source": [
        "from autosklearn.classification import AutoSklearnClassifier\n",
        "from supervised.automl import AutoML\n",
        "from sklearn.model_selection import train_test_split\n",
        "from sklearn.metrics import accuracy_score,confusion_matrix,mean_squared_error,roc_curve,auc\n",
        "from sklearn.metrics import ConfusionMatrixDisplay\n",
        "import matplotlib.pyplot as plt \n",
        "import pandas as pd\n",
        "import numpy as np"
      ]
    },
    {
      "cell_type": "code",
      "execution_count": null,
      "metadata": {
        "id": "Q1QFOu2MlwSR"
      },
      "outputs": [],
      "source": [
        "id_8_100 = \"1Xim7evxFbwexccQSGJn9fuJvPkL36cVJ\"\n",
        "id_8_200 = \"1iumJyhmCETAgbvwlkQxSC2C47xOxT1YF\"\n",
        "id_8_233 = \"1B1SOBhoWeJnlP6yhMd9o8zecl2pZ0qHR\"\n",
        "downloaded = drive.CreateFile({'id':id_8_200}) \n",
        "downloaded.GetContentFile('data_8_200_+200.csv')  \n",
        "downloaded = drive.CreateFile({'id':id_8_233}) \n",
        "downloaded.GetContentFile('data_8_233.csv')  \n"
      ]
    },
    {
      "cell_type": "code",
      "execution_count": null,
      "metadata": {
        "id": "SmX2DbiVlOUM"
      },
      "outputs": [],
      "source": [
        "\n",
        "df = pd.read_csv(\"data_8_200_+200.csv\")\n",
        "df_233 = pd.read_csv(\"data_8_233.csv\")"
      ]
    },
    {
      "cell_type": "markdown",
      "metadata": {
        "id": "3UIdZ5mMlOUO"
      },
      "source": [
        "# SPLIT DATA into Train and Test"
      ]
    },
    {
      "cell_type": "code",
      "execution_count": null,
      "metadata": {
        "colab": {
          "base_uri": "https://localhost:8080/"
        },
        "id": "NnKknbTZKXrD",
        "outputId": "cc9ed317-20e9-4474-c80d-4d1477f438b4"
      },
      "outputs": [
        {
          "output_type": "stream",
          "name": "stdout",
          "text": [
            "0    69523\n",
            "1    25996\n",
            "Name: Type, dtype: int64\n",
            "0    2229\n",
            "1     848\n",
            "Name: Type, dtype: int64\n"
          ]
        }
      ],
      "source": [
        "print(df['Type'].value_counts())\n",
        "print(df_233['Type'].value_counts())\n"
      ]
    },
    {
      "cell_type": "code",
      "execution_count": null,
      "metadata": {
        "id": "53FLCg0zxBNk"
      },
      "outputs": [],
      "source": [
        "MLII_X_global = df.iloc[:,5:405].values\n",
        "MLII_y_global = df['Type'].values\n",
        "\n",
        "MLII_X_train, MLII_X_test, MLII_y_train, MLII_y_test = train_test_split(MLII_X_global, MLII_y_global, train_size = .75)"
      ]
    },
    {
      "cell_type": "code",
      "execution_count": null,
      "metadata": {
        "colab": {
          "base_uri": "https://localhost:8080/"
        },
        "id": "Ti3OKkZ-0KR3",
        "outputId": "89bc0e79-af0d-40fd-e7db-91ccb4787a81"
      },
      "outputs": [
        {
          "output_type": "stream",
          "name": "stdout",
          "text": [
            "Test - Healthy\t 17344  Sick\t 6536\n",
            "Train - Healthy\t 52179  Sick\t 19460\n"
          ]
        }
      ],
      "source": [
        "unique, counts = np.unique(MLII_y_test,return_counts=True)\n",
        "\n",
        "print('Test - Healthy\\t',counts[0],' Sick\\t',counts[1])\n",
        "unique, counts = np.unique(MLII_y_train,return_counts=True)\n",
        "print('Train - Healthy\\t',counts[0],' Sick\\t',counts[1])"
      ]
    },
    {
      "cell_type": "code",
      "execution_count": null,
      "metadata": {
        "id": "1C-EUI7vhABI"
      },
      "outputs": [],
      "source": [
        "automl = AutoML(\n",
        "    mode='Perform',\n",
        "    total_time_limit = 6000,\n",
        "    ml_task=\"binary_classification\",\n",
        "    train_ensemble= True,\n",
        "    eval_metric = \"average_precision\",\n",
        "    explain_level = 1\n",
        "    # algorithms = [\"LightGBM\"]\n",
        ")"
      ]
    },
    {
      "cell_type": "code",
      "execution_count": null,
      "metadata": {
        "id": "gmqF7JvFl6SR",
        "colab": {
          "base_uri": "https://localhost:8080/"
        },
        "outputId": "29e9ed70-d9d5-4234-f357-30889e708e09"
      },
      "outputs": [
        {
          "output_type": "stream",
          "name": "stdout",
          "text": [
            "Linear algorithm was disabled.\n",
            "AutoML directory: AutoML_1\n",
            "The task is binary_classification with evaluation metric average_precision\n",
            "AutoML will use algorithms: ['Random Forest', 'LightGBM', 'Xgboost', 'CatBoost', 'Neural Network']\n",
            "AutoML will ensemble available models\n",
            "AutoML steps: ['simple_algorithms', 'default_algorithms', 'not_so_random', 'golden_features', 'insert_random_feature', 'features_selection', 'hill_climbing_1', 'hill_climbing_2', 'ensemble']\n",
            "Skip simple_algorithms because no parameters were generated.\n",
            "* Step default_algorithms will try to check up to 5 models\n",
            "1_Default_LightGBM average_precision 0.996792 trained in 2669.99 seconds (1-sample predict time 0.1956 seconds)\n",
            "* Step not_so_random will try to check up to 20 models\n",
            "6_LightGBM average_precision 0.995894 trained in 1973.73 seconds (1-sample predict time 0.2181 seconds)\n",
            "Skip golden_features because no parameters were generated.\n",
            "Skip insert_random_feature because no parameters were generated.\n",
            "Skip features_selection because no parameters were generated.\n",
            "* Step hill_climbing_1 will try to check up to 2 models\n",
            "* Step hill_climbing_2 will try to check up to 2 models\n",
            "* Step ensemble will try to check up to 1 model\n",
            "Ensemble average_precision 0.996792 trained in 19.8 seconds (1-sample predict time 0.4103 seconds)\n",
            "AutoML fit time: 4681.43 seconds\n",
            "AutoML best model: 1_Default_LightGBM\n"
          ]
        },
        {
          "output_type": "execute_result",
          "data": {
            "text/plain": [
              "AutoML(eval_metric='average_precision', explain_level=1,\n",
              "       ml_task='binary_classification', mode='Perform', total_time_limit=6000)"
            ]
          },
          "metadata": {},
          "execution_count": 11
        }
      ],
      "source": [
        "automl.fit(MLII_X_train,MLII_y_train)"
      ]
    },
    {
      "cell_type": "code",
      "execution_count": null,
      "metadata": {
        "id": "iNqETr1oqfsZ"
      },
      "outputs": [],
      "source": [
        "  predictions_y_test_automl = automl.predict_all(MLII_X_test)\n",
        "  predictions_y_train_automl = automl.predict_all(MLII_X_train)\n",
        "  accuracy_train_automl = accuracy_score(MLII_y_train,predictions_y_train_automl[\"label\"])\n",
        "  accuracy_test_automl = accuracy_score(MLII_y_test,predictions_y_test_automl[\"label\"])"
      ]
    },
    {
      "cell_type": "code",
      "execution_count": null,
      "metadata": {
        "id": "CPlPKb0wqtBL",
        "colab": {
          "base_uri": "https://localhost:8080/"
        },
        "outputId": "f44f8365-86c9-4797-aca1-bed38e46b8b5"
      },
      "outputs": [
        {
          "output_type": "stream",
          "name": "stdout",
          "text": [
            "train accuracy  1.0  test accuracy  0.990033500837521\n"
          ]
        }
      ],
      "source": [
        "print(\"train accuracy \",accuracy_train_automl,\" test accuracy \", accuracy_test_automl)"
      ]
    },
    {
      "cell_type": "code",
      "source": [
        "fpr, tpr, thresholds = roc_curve(MLII_y_test, predictions_y_test_automl[\"label\"])\n",
        "cm = confusion_matrix(MLII_y_test,predictions_y_test_automl[\"label\"])\n",
        "tn,fn,fp,tp = confusion_matrix(MLII_y_test,predictions_y_test_automl[\"label\"]).ravel()\n",
        "disp = ConfusionMatrixDisplay(confusion_matrix=cm)\n",
        "disp.plot()\n",
        "AUC = auc(fpr, tpr)\n",
        "Precision = tp / (tp+fp)\n",
        "Recall = tp / (tp + fn)\n",
        "F1 = 2 * (Precision * Recall) / (Precision + Recall)"
      ],
      "metadata": {
        "colab": {
          "base_uri": "https://localhost:8080/",
          "height": 279
        },
        "id": "ARtzJBbBDS4y",
        "outputId": "4e5f116b-2b59-4f13-a57b-bdb1b2614af6"
      },
      "execution_count": null,
      "outputs": [
        {
          "output_type": "display_data",
          "data": {
            "text/plain": [
              "<Figure size 432x288 with 2 Axes>"
            ],
            "image/png": "[encoded data removed]"
          },
          "metadata": {
            "needs_background": "light"
          }
        }
      ]
    },
    {
      "cell_type": "code",
      "execution_count": null,
      "metadata": {
        "id": "86Qm_G4Oq48w",
        "colab": {
          "base_uri": "https://localhost:8080/"
        },
        "outputId": "c4029948-5621-4a12-dd16-49b5e199beb2"
      },
      "outputs": [
        {
          "output_type": "stream",
          "name": "stdout",
          "text": [
            "Precision   \t\t 0.9680232558139535\n",
            "Recall   \t\t 0.9954373820012586\n",
            "AUC      \t\t 0.983175603921737\n",
            "Accuracy test\t\t 0.990033500837521\n",
            "Accuracy train\t\t 1.0\n",
            "tn:  17315 fn  29 fp  209 tp  6327\n"
          ]
        }
      ],
      "source": [
        "AUC = auc(fpr, tpr)\n",
        "Precision = tp / (tp+fp)\n",
        "Recall = tp / (tp + fn)\n",
        "\n",
        "print('Precision   \\t\\t',Precision)\n",
        "print('Recall   \\t\\t',Recall)\n",
        "print('AUC      \\t\\t',AUC)\n",
        "print('Accuracy test\\t\\t',accuracy_test_automl)\n",
        "print('Accuracy train\\t\\t',accuracy_train_automl)\n",
        "print('tn: ',tn,'fn ',fn,'fp ',fp,'tp ',tp)"
      ]
    },
    {
      "cell_type": "code",
      "source": [
        "fpr, tpr, thresholds = roc_curve(MLII_y_test, predictions_y_test_automl[\"label\"])\n",
        "plt.subplots(1, figsize=(10,10))\n",
        "plt.title('ROC')\n",
        "plt.plot(fpr, tpr)\n",
        "plt.plot([0, 1], ls=\"--\")\n",
        "plt.plot([0, 0], [1, 0] , c=\".7\")\n",
        "plt.plot([1, 1] , c=\".7\")\n",
        "plt.ylabel('TPR')\n",
        "plt.xlabel('FPR')\n",
        "plt.show()"
      ],
      "metadata": {
        "colab": {
          "base_uri": "https://localhost:8080/",
          "height": 621
        },
        "id": "2-BaZxPBDeZx",
        "outputId": "158e3e6c-2582-465f-a5fe-6120e97ddde5"
      },
      "execution_count": null,
      "outputs": [
        {
          "output_type": "display_data",
          "data": {
            "text/plain": [
              "<Figure size 720x720 with 1 Axes>"
            ],
            "image/png": "[encoded data removed]"
          },
          "metadata": {
            "needs_background": "light"
          }
        }
      ]
    },
    {
      "cell_type": "markdown",
      "source": [
        "# Patient 233"
      ],
      "metadata": {
        "id": "zI5zuww1Em_1"
      }
    },
    {
      "cell_type": "code",
      "source": [
        "MLII_X_test_233 = df_233.iloc[:,5:405].values\n",
        "MLII_y_test_233 = df_233['Type'].values\n",
        "predictions_y_test_233 = automl.predict_all(MLII_X_test_233)"
      ],
      "metadata": {
        "id": "4UEwIwg0EZyJ"
      },
      "execution_count": null,
      "outputs": []
    },
    {
      "cell_type": "code",
      "source": [
        "cm_233 = confusion_matrix(MLII_y_test_233,predictions_y_test_233[\"label\"])\n",
        "disp_233 = ConfusionMatrixDisplay(confusion_matrix=cm_233)\n",
        "disp_233.plot()"
      ],
      "metadata": {
        "colab": {
          "base_uri": "https://localhost:8080/",
          "height": 296
        },
        "id": "IfrxZmUiEOvB",
        "outputId": "1a8cd545-555e-422c-adbe-c552afb0fb0b"
      },
      "execution_count": null,
      "outputs": [
        {
          "output_type": "execute_result",
          "data": {
            "text/plain": [
              "<sklearn.metrics._plot.confusion_matrix.ConfusionMatrixDisplay at 0x7f79df042a10>"
            ]
          },
          "metadata": {},
          "execution_count": 20
        },
        {
          "output_type": "display_data",
          "data": {
            "text/plain": [
              "<Figure size 432x288 with 2 Axes>"
            ],
            "image/png": "[encoded data removed]"
          },
          "metadata": {
            "needs_background": "light"
          }
        }
      ]
    },
    {
      "cell_type": "code",
      "execution_count": null,
      "metadata": {
        "id": "aTpGvEb4p6s6",
        "colab": {
          "base_uri": "https://localhost:8080/"
        },
        "outputId": "8c2eb173-9a4e-4e7b-b2c8-39c9ce2c7ddf"
      },
      "outputs": [
        {
          "output_type": "stream",
          "name": "stdout",
          "text": [
            "Precision   \t\t 0.9634433962264151\n",
            "Recall     \t\t 0.59375\n",
            "AUC      \t\t 0.983175603921737\n",
            "Accuracy test\t\t 0.8082547936301593\n",
            "tn:  1670 fn  559 fp  31 tp  817\n"
          ]
        }
      ],
      "source": [
        "accuracy_test_233 = accuracy_score(MLII_y_test_233,predictions_y_test_233[\"label\"])\n",
        "tn,fn,fp,tp = confusion_matrix(MLII_y_test_233,predictions_y_test_233[\"label\"]).ravel()\n",
        "AUC = auc(fpr, tpr)\n",
        "Precision = tp / (tp+fp)\n",
        "Recall = tp / (tp + fn)\n",
        "\n",
        "print('Precision   \\t\\t',Precision)\n",
        "print('Recall     \\t\\t',Recall)\n",
        "print('AUC      \\t\\t',AUC)\n",
        "print('Accuracy test\\t\\t',accuracy_test_233)\n",
        "print('tn: ',tn,'fn ',fn,'fp ',fp,'tp ',tp)"
      ]
    },
    {
      "cell_type": "markdown",
      "metadata": {
        "id": "Aj9PDynFp30_"
      },
      "source": [
        "# AUTOSKLEARN LIBRARY"
      ]
    },
    {
      "cell_type": "code",
      "execution_count": null,
      "metadata": {
        "id": "GXaQ2HCnqTEt"
      },
      "outputs": [],
      "source": [
        "MLII_X_global = df.iloc[:,5:405].values\n",
        "MLII_y_global = df['Type'].values\n",
        "\n",
        "MLII_X_train, MLII_X_test, MLII_y_train, MLII_y_test = train_test_split(MLII_X_global, MLII_y_global, train_size = .75)"
      ]
    },
    {
      "cell_type": "code",
      "execution_count": null,
      "metadata": {
        "colab": {
          "base_uri": "https://localhost:8080/"
        },
        "id": "fEmylrrSlOUX",
        "outputId": "6fe337d9-9263-4a51-c125-9b4df179663a"
      },
      "outputs": [
        {
          "output_type": "stream",
          "name": "stdout",
          "text": [
            "[WARNING] [2022-10-09 16:26:18,410:Client-EnsembleBuilder] No runs were available to build an ensemble from\n",
            "[WARNING] [2022-10-09 16:26:24,909:Client-EnsembleBuilder] No runs were available to build an ensemble from\n"
          ]
        },
        {
          "output_type": "execute_result",
          "data": {
            "text/plain": [
              "AutoSklearnClassifier(ensemble_class=<class 'autosklearn.ensembles.ensemble_selection.EnsembleSelection'>,\n",
              "                      memory_limit=30000, per_run_time_limit=360)"
            ]
          },
          "metadata": {},
          "execution_count": 22
        }
      ],
      "source": [
        "\n",
        "model = AutoSklearnClassifier(time_left_for_this_task=60*60,memory_limit= 30000)\n",
        "model.fit(MLII_X_train,MLII_y_train)"
      ]
    },
    {
      "cell_type": "code",
      "execution_count": null,
      "metadata": {
        "id": "x8JbQ69JlOUX"
      },
      "outputs": [],
      "source": [
        "MLII_y_pred_test = model.predict(MLII_X_test)\n",
        "MLII_y_pred_train = model.predict(MLII_X_train)\n"
      ]
    },
    {
      "cell_type": "code",
      "execution_count": null,
      "metadata": {
        "id": "FqxlhiIOlOUX",
        "colab": {
          "base_uri": "https://localhost:8080/",
          "height": 621
        },
        "outputId": "a70e66f6-240d-4ff8-9bed-153e68677c1d"
      },
      "outputs": [
        {
          "output_type": "display_data",
          "data": {
            "text/plain": [
              "<Figure size 720x720 with 1 Axes>"
            ],
            "image/png": "[encoded data removed]"
          },
          "metadata": {
            "needs_background": "light"
          }
        }
      ],
      "source": [
        "fpr, tpr, thresholds = roc_curve(MLII_y_test, MLII_y_pred_test)\n",
        "AUC = auc(fpr, tpr)\n",
        "\n",
        "plt.subplots(1, figsize=(10,10))\n",
        "plt.title('ROC')\n",
        "plt.plot(fpr, tpr)\n",
        "plt.plot([0, 1], ls=\"--\")\n",
        "plt.plot([0, 0], [1, 0] , c=\".7\")\n",
        "plt.plot([1, 1] , c=\".7\")\n",
        "plt.ylabel('TPR')\n",
        "plt.xlabel('FPR')\n",
        "plt.show()"
      ]
    },
    {
      "cell_type": "code",
      "execution_count": null,
      "metadata": {
        "colab": {
          "base_uri": "https://localhost:8080/"
        },
        "id": "jNLRzo9BlOUY",
        "outputId": "afa4f883-071d-42b7-df42-83295c925c8f"
      },
      "outputs": [
        {
          "output_type": "stream",
          "name": "stdout",
          "text": [
            "Recall   \t\t 0.9934775692014\n",
            "Sensitivity\t\t 0.2642044252654736\n",
            "AUC      \t\t 0.996680036740811\n",
            "F1       \t\t 0.4174046719914447\n",
            "Accuracy test\t\t 0.9898241206030151\n",
            "Accuracy train\t\t 0.9966359106073508\n"
          ]
        }
      ],
      "source": [
        "accuracy_train = accuracy_score(MLII_y_train, MLII_y_pred_train)\n",
        "accuracy_test = accuracy_score(MLII_y_test, MLII_y_pred_test)\n",
        "tn,fp,fn,tp = confusion_matrix(MLII_y_test,MLII_y_pred_test).ravel()\n",
        "\n",
        "Precision = tp / (tp+fp)\n",
        "Recall = tp / (tp + tn)\n",
        "F1 = 2 * (Precision * Recall) / (Precision + Recall)\n",
        "print('Precision   \\t\\t',Precision)\n",
        "print('Recall   \\t\\t',Recall)\n",
        "print('AUC      \\t\\t',AUC)\n",
        "print(\"F1       \\t\\t\",F1)\n",
        "print('Accuracy test\\t\\t',accuracy_test)\n",
        "print('Accuracy train\\t\\t',accuracy_train)"
      ]
    },
    {
      "cell_type": "code",
      "source": [
        "print('tn: ',tn,'fp ',fp,'fn ',fn,'tp ',tp)"
      ],
      "metadata": {
        "colab": {
          "base_uri": "https://localhost:8080/"
        },
        "id": "gvN_FX8fxgHR",
        "outputId": "668490ae-c165-4b08-c19d-3010e0784b4c"
      },
      "execution_count": null,
      "outputs": [
        {
          "output_type": "stream",
          "name": "stdout",
          "text": [
            "tn:  17392 fp  41 fn  202 tp  6245\n"
          ]
        }
      ]
    },
    {
      "cell_type": "code",
      "execution_count": null,
      "metadata": {
        "colab": {
          "base_uri": "https://localhost:8080/"
        },
        "id": "cd8NFcuE42pm",
        "outputId": "e61d690a-2905-44c2-d911-ccfc9afdee39"
      },
      "outputs": [
        {
          "output_type": "stream",
          "name": "stdout",
          "text": [
            "          rank  ensemble_weight               type      cost    duration\n",
            "model_id                                                                \n",
            "16           1             0.20  gradient_boosting  0.010744  100.110121\n",
            "4            2             0.40  gradient_boosting  0.011167   60.934243\n",
            "5            3             0.06  gradient_boosting  0.013578  145.978450\n",
            "18           4             0.30        extra_trees  0.018020  121.168320\n",
            "14           5             0.04                mlp  0.048898   88.747553\n"
          ]
        }
      ],
      "source": [
        "print(model.leaderboard())"
      ]
    }
  ],
  "metadata": {
    "colab": {
      "collapsed_sections": [],
      "provenance": [],
      "include_colab_link": true
    },
    "interpreter": {
      "hash": "916dbcbb3f70747c44a77c7bcd40155683ae19c65e1c03b4aa3499c5328201f1"
    },
    "kernelspec": {
      "display_name": "Python 3 (ipykernel)",
      "language": "python",
      "name": "python3"
    },
    "language_info": {
      "codemirror_mode": {
        "name": "ipython",
        "version": 3
      },
      "file_extension": ".py",
      "mimetype": "text/x-python",
      "name": "python",
      "nbconvert_exporter": "python",
      "pygments_lexer": "ipython3",
      "version": "3.10.5"
    },
    "vscode": {
      "interpreter": {
        "hash": "1fbc878955697c1d598f73e97ecbe223537ad785f1c981e8f3c1b27488c025fb"
      }
    }
  },
  "nbformat": 4,
  "nbformat_minor": 0
}